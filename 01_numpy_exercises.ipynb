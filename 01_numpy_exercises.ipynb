{
  "cells": [
    {
      "cell_type": "markdown",
      "metadata": {
        "id": "view-in-github",
        "colab_type": "text"
      },
      "source": [
        "<a href=\"https://colab.research.google.com/github/jddantes/Seinfeld/blob/master/01_numpy_exercises.ipynb\" target=\"_parent\"><img src=\"https://colab.research.google.com/assets/colab-badge.svg\" alt=\"Open In Colab\"/></a>"
      ]
    },
    {
      "cell_type": "markdown",
      "id": "c1093c06",
      "metadata": {
        "id": "c1093c06"
      },
      "source": [
        "Before you turn this problem in, make sure everything runs as expected. First, **restart the kernel** (in the menubar, select Kernel$\\rightarrow$Restart) and then **run all cells** (in the menubar, select Cell$\\rightarrow$Run All).\n",
        "\n",
        "Make sure you fill in any place that says `YOUR CODE HERE` or \"YOUR ANSWER HERE\", as well as your name and collaborators below:"
      ]
    },
    {
      "cell_type": "code",
      "execution_count": 2,
      "id": "a1d5d52c",
      "metadata": {
        "id": "a1d5d52c"
      },
      "outputs": [],
      "source": [
        "NAME = \"Joseph Daniel Dantes\"\n",
        "COLLABORATORS = \"\""
      ]
    },
    {
      "cell_type": "markdown",
      "id": "4a0b0746",
      "metadata": {
        "id": "4a0b0746"
      },
      "source": [
        "---"
      ]
    },
    {
      "cell_type": "markdown",
      "id": "6293cc50",
      "metadata": {
        "id": "6293cc50"
      },
      "source": [
        "## Assorted Numpy Exercises"
      ]
    },
    {
      "cell_type": "markdown",
      "id": "3c1222ff",
      "metadata": {
        "id": "3c1222ff"
      },
      "source": [
        "#### 1. Import the numpy package under the name `np` (★☆☆)"
      ]
    },
    {
      "cell_type": "markdown",
      "id": "507c3148-9ec4-4940-a2e1-76cde4490167",
      "metadata": {
        "id": "507c3148-9ec4-4940-a2e1-76cde4490167"
      },
      "source": [
        "`hint: import … as`"
      ]
    },
    {
      "cell_type": "code",
      "execution_count": 4,
      "id": "Q9s0zKuZDdux",
      "metadata": {
        "deletable": false,
        "id": "Q9s0zKuZDdux",
        "nbgrader": {
          "cell_type": "code",
          "checksum": "b9f8483a491207a402bf12e97b8a1a73",
          "grade": false,
          "grade_id": "cell-0cff6875083d6b25",
          "locked": false,
          "schema_version": 3,
          "solution": true,
          "task": false
        }
      },
      "outputs": [],
      "source": [
        "# YOUR CODE HERE\n",
        "import numpy as np\n",
        "# raise NotImplementedError()"
      ]
    },
    {
      "cell_type": "code",
      "execution_count": 5,
      "id": "f52e6a0b",
      "metadata": {
        "deletable": false,
        "editable": false,
        "id": "f52e6a0b",
        "nbgrader": {
          "cell_type": "code",
          "checksum": "94117f3b8891022cd2a7a1b671b90f29",
          "grade": true,
          "grade_id": "cell-6b0de2ec8bbb7be8",
          "locked": true,
          "points": 1,
          "schema_version": 3,
          "solution": false,
          "task": false
        }
      },
      "outputs": [],
      "source": [
        "try:\n",
        "  np.array([0., 0., 0.])\n",
        "  assert True\n",
        "except NameError:\n",
        "  assert False"
      ]
    },
    {
      "cell_type": "markdown",
      "id": "9d9f4753",
      "metadata": {
        "id": "9d9f4753"
      },
      "source": [
        "#### 2. Print the numpy version and the configuration (★☆☆)"
      ]
    },
    {
      "cell_type": "markdown",
      "id": "ee833e4d-8c75-4b8c-831d-933156aaf0ec",
      "metadata": {
        "id": "ee833e4d-8c75-4b8c-831d-933156aaf0ec"
      },
      "source": [
        "`hint: np.__version__, np.show_config)`"
      ]
    },
    {
      "cell_type": "code",
      "execution_count": 8,
      "id": "b7fa5fa1",
      "metadata": {
        "deletable": false,
        "id": "b7fa5fa1",
        "nbgrader": {
          "cell_type": "code",
          "checksum": "c7b9a27bc802d8a23982ecd31b6e127a",
          "grade": false,
          "grade_id": "cell-bda094f852c623ab",
          "locked": false,
          "schema_version": 3,
          "solution": true,
          "task": false
        }
      },
      "outputs": [],
      "source": [
        "version = None\n",
        "# YOUR CODE HERE\n",
        "version = np.__version__\n",
        "# raise NotImplementedError()"
      ]
    },
    {
      "cell_type": "code",
      "execution_count": 11,
      "id": "Uxg8XXG4D9gM",
      "metadata": {
        "deletable": false,
        "editable": false,
        "id": "Uxg8XXG4D9gM",
        "nbgrader": {
          "cell_type": "code",
          "checksum": "e4fa7871d1a18f834bb7e63c3a51dd0c",
          "grade": true,
          "grade_id": "cell-1a1abe159355bd8f",
          "locked": true,
          "points": 1,
          "schema_version": 3,
          "solution": false,
          "task": false
        }
      },
      "outputs": [],
      "source": [
        "# Colab-Dependent 8)\n",
        "assert version == '1.25.2'"
      ]
    },
    {
      "cell_type": "markdown",
      "id": "3e4c23c6",
      "metadata": {
        "id": "3e4c23c6"
      },
      "source": [
        "#### 3. Create a null vector of size 10 (★☆☆)"
      ]
    },
    {
      "cell_type": "markdown",
      "id": "f10d1e57-2af4-4b28-9d52-afd0ea1998f0",
      "metadata": {
        "id": "f10d1e57-2af4-4b28-9d52-afd0ea1998f0"
      },
      "source": [
        "`hint: np.zeros`"
      ]
    },
    {
      "cell_type": "code",
      "execution_count": 10,
      "id": "083c5c46",
      "metadata": {
        "deletable": false,
        "id": "083c5c46",
        "nbgrader": {
          "cell_type": "code",
          "checksum": "57d982e44f87faac9b3cc74cdc8f5f29",
          "grade": false,
          "grade_id": "zeros",
          "locked": false,
          "schema_version": 3,
          "solution": true,
          "task": false
        }
      },
      "outputs": [],
      "source": [
        "answer3 = None\n",
        "# YOUR CODE HERE\n",
        "answer3 = np.zeros(10)\n",
        "# raise NotImplementedError()"
      ]
    },
    {
      "cell_type": "code",
      "execution_count": 12,
      "id": "c0c03a13-33b1-4bfc-b695-02eddbe763db",
      "metadata": {
        "deletable": false,
        "editable": false,
        "id": "c0c03a13-33b1-4bfc-b695-02eddbe763db",
        "nbgrader": {
          "cell_type": "code",
          "checksum": "65dab164ccc1fba6d576d2aa41399f6c",
          "grade": true,
          "grade_id": "zeros-test",
          "locked": true,
          "points": 1,
          "schema_version": 3,
          "solution": false,
          "task": false
        }
      },
      "outputs": [],
      "source": [
        "assert np.array_equal(answer3, np.array([0., 0., 0., 0., 0., 0., 0., 0., 0., 0.]))"
      ]
    },
    {
      "cell_type": "markdown",
      "id": "c38bbe82",
      "metadata": {
        "id": "c38bbe82"
      },
      "source": [
        "#### 4. How to find the memory size of any array (★☆☆)"
      ]
    },
    {
      "cell_type": "markdown",
      "id": "6010f15f-7535-4df5-89cc-c7669406c60b",
      "metadata": {
        "id": "6010f15f-7535-4df5-89cc-c7669406c60b"
      },
      "source": [
        "`hint: size, itemsize`"
      ]
    },
    {
      "cell_type": "code",
      "execution_count": 15,
      "id": "02b04021",
      "metadata": {
        "deletable": false,
        "id": "02b04021",
        "nbgrader": {
          "cell_type": "code",
          "checksum": "783d166dc11f598e7b9233f25f4e4497",
          "grade": false,
          "grade_id": "cell-27bb53e82226d8d6",
          "locked": false,
          "schema_version": 3,
          "solution": true,
          "task": false
        }
      },
      "outputs": [],
      "source": [
        "Z = np.zeros((10,10))\n",
        "itemsize = None\n",
        "itemsize = Z.itemsize * Z.size\n",
        "# YOUR CODE HERE\n",
        "# raise NotImplementedError()"
      ]
    },
    {
      "cell_type": "code",
      "execution_count": 16,
      "id": "b0b50670-3a26-49a3-bf15-281e9c2ec012",
      "metadata": {
        "deletable": false,
        "editable": false,
        "id": "b0b50670-3a26-49a3-bf15-281e9c2ec012",
        "nbgrader": {
          "cell_type": "code",
          "checksum": "39a9993f303e9cfb61be38f1b738993d",
          "grade": true,
          "grade_id": "cell-6b241446992eb73a",
          "locked": true,
          "points": 1,
          "schema_version": 3,
          "solution": false,
          "task": false
        }
      },
      "outputs": [],
      "source": [
        "assert itemsize == 800"
      ]
    },
    {
      "cell_type": "markdown",
      "id": "67f893d4",
      "metadata": {
        "id": "67f893d4"
      },
      "source": [
        "#### 5. How to get the documentation of the numpy add function from the command line? (★☆☆)"
      ]
    },
    {
      "cell_type": "markdown",
      "id": "1a697556-9576-43e7-b989-4088397fb359",
      "metadata": {
        "id": "1a697556-9576-43e7-b989-4088397fb359"
      },
      "source": [
        "`hint: np.info`"
      ]
    },
    {
      "cell_type": "code",
      "execution_count": 17,
      "id": "40e6b70d",
      "metadata": {
        "colab": {
          "base_uri": "https://localhost:8080/"
        },
        "deletable": false,
        "id": "40e6b70d",
        "nbgrader": {
          "cell_type": "code",
          "checksum": "d578a78bf05149337442ae43fa4d64e4",
          "grade": true,
          "grade_id": "cell-be69e06c4c948795",
          "locked": false,
          "points": 1,
          "schema_version": 3,
          "solution": true,
          "task": false
        },
        "outputId": "8f323d2e-a490-40a7-c67d-46becc620a9e"
      },
      "outputs": [
        {
          "output_type": "stream",
          "name": "stdout",
          "text": [
            "add(x1, x2, /, out=None, *, where=True, casting='same_kind', order='K', dtype=None, subok=True[, signature, extobj])\n",
            "\n",
            "Add arguments element-wise.\n",
            "\n",
            "Parameters\n",
            "----------\n",
            "x1, x2 : array_like\n",
            "    The arrays to be added.\n",
            "    If ``x1.shape != x2.shape``, they must be broadcastable to a common\n",
            "    shape (which becomes the shape of the output).\n",
            "out : ndarray, None, or tuple of ndarray and None, optional\n",
            "    A location into which the result is stored. If provided, it must have\n",
            "    a shape that the inputs broadcast to. If not provided or None,\n",
            "    a freshly-allocated array is returned. A tuple (possible only as a\n",
            "    keyword argument) must have length equal to the number of outputs.\n",
            "where : array_like, optional\n",
            "    This condition is broadcast over the input. At locations where the\n",
            "    condition is True, the `out` array will be set to the ufunc result.\n",
            "    Elsewhere, the `out` array will retain its original value.\n",
            "    Note that if an uninitialized `out` array is created via the default\n",
            "    ``out=None``, locations within it where the condition is False will\n",
            "    remain uninitialized.\n",
            "**kwargs\n",
            "    For other keyword-only arguments, see the\n",
            "    :ref:`ufunc docs <ufuncs.kwargs>`.\n",
            "\n",
            "Returns\n",
            "-------\n",
            "add : ndarray or scalar\n",
            "    The sum of `x1` and `x2`, element-wise.\n",
            "    This is a scalar if both `x1` and `x2` are scalars.\n",
            "\n",
            "Notes\n",
            "-----\n",
            "Equivalent to `x1` + `x2` in terms of array broadcasting.\n",
            "\n",
            "Examples\n",
            "--------\n",
            ">>> np.add(1.0, 4.0)\n",
            "5.0\n",
            ">>> x1 = np.arange(9.0).reshape((3, 3))\n",
            ">>> x2 = np.arange(3.0)\n",
            ">>> np.add(x1, x2)\n",
            "array([[  0.,   2.,   4.],\n",
            "       [  3.,   5.,   7.],\n",
            "       [  6.,   8.,  10.]])\n",
            "\n",
            "The ``+`` operator can be used as a shorthand for ``np.add`` on ndarrays.\n",
            "\n",
            ">>> x1 = np.arange(9.0).reshape((3, 3))\n",
            ">>> x2 = np.arange(3.0)\n",
            ">>> x1 + x2\n",
            "array([[ 0.,  2.,  4.],\n",
            "       [ 3.,  5.,  7.],\n",
            "       [ 6.,  8., 10.]])\n"
          ]
        }
      ],
      "source": [
        "# YOUR CODE HERE\n",
        "np.info(np.add)\n",
        "# raise NotImplementedError()"
      ]
    },
    {
      "cell_type": "markdown",
      "id": "e0c739c6",
      "metadata": {
        "id": "e0c739c6"
      },
      "source": [
        "#### 6. Create a null vector of size 10 but the fifth value which is 1 (★☆☆)"
      ]
    },
    {
      "cell_type": "markdown",
      "id": "d1cf8d00-4a33-4965-8726-eef6b0941ca3",
      "metadata": {
        "id": "d1cf8d00-4a33-4965-8726-eef6b0941ca3"
      },
      "source": [
        "`hint: array[4]`"
      ]
    },
    {
      "cell_type": "code",
      "execution_count": 21,
      "id": "bcceacf7",
      "metadata": {
        "deletable": false,
        "id": "bcceacf7",
        "nbgrader": {
          "cell_type": "code",
          "checksum": "98f5fdb610c520d470a7dbeb59a6d67a",
          "grade": false,
          "grade_id": "cell-84c9807e3eab5bdb",
          "locked": false,
          "schema_version": 3,
          "solution": true,
          "task": false
        }
      },
      "outputs": [],
      "source": [
        "Z_ans = None\n",
        "# YOUR CODE HERE\n",
        "Z_ans = np.zeros(10)\n",
        "Z_ans[4] = 1\n",
        "# raise NotImplementedError()"
      ]
    },
    {
      "cell_type": "code",
      "execution_count": 22,
      "id": "efc252ab-15a5-42bd-882b-b5593aa7484c",
      "metadata": {
        "deletable": false,
        "editable": false,
        "id": "efc252ab-15a5-42bd-882b-b5593aa7484c",
        "nbgrader": {
          "cell_type": "code",
          "checksum": "defa6a9c0befdcc820349569f62599c4",
          "grade": true,
          "grade_id": "cell-280ddaccfb592b37",
          "locked": true,
          "points": 1,
          "schema_version": 3,
          "solution": false,
          "task": false
        }
      },
      "outputs": [],
      "source": [
        "assert np.array_equal(Z_ans, np.array([0 if i!=4 else 1 for i in range(10)]))"
      ]
    },
    {
      "cell_type": "markdown",
      "id": "fbebedab",
      "metadata": {
        "id": "fbebedab"
      },
      "source": [
        "#### 7. Create a vector with values ranging from 10 to 49 (★☆☆)"
      ]
    },
    {
      "cell_type": "markdown",
      "id": "68e40d23-a226-45a0-9da5-a721b4dcca9b",
      "metadata": {
        "id": "68e40d23-a226-45a0-9da5-a721b4dcca9b"
      },
      "source": [
        "`hint: arange`"
      ]
    },
    {
      "cell_type": "code",
      "execution_count": 32,
      "id": "3d117d54",
      "metadata": {
        "deletable": false,
        "id": "3d117d54",
        "nbgrader": {
          "cell_type": "code",
          "checksum": "5e5d2b913f9d129c08f481ec1b4477e9",
          "grade": false,
          "grade_id": "cell-fae07e150c7204ae",
          "locked": false,
          "schema_version": 3,
          "solution": true,
          "task": false
        }
      },
      "outputs": [],
      "source": [
        "answer7 = None\n",
        "# YOUR CODE HERE\n",
        "answer7 = np.array(range(10, 50))\n",
        "# raise NotImplementedError()"
      ]
    },
    {
      "cell_type": "code",
      "execution_count": 33,
      "id": "f9cc41fe-36cf-4dfd-85d7-f777500ce9eb",
      "metadata": {
        "deletable": false,
        "editable": false,
        "id": "f9cc41fe-36cf-4dfd-85d7-f777500ce9eb",
        "nbgrader": {
          "cell_type": "code",
          "checksum": "cf3d8861048a20f4aa3ec0713ecfcfda",
          "grade": true,
          "grade_id": "cell-d35392b97b5ff0ca",
          "locked": true,
          "points": 1,
          "schema_version": 3,
          "solution": false,
          "task": false
        }
      },
      "outputs": [],
      "source": [
        "assert np.array_equal(answer7, np.array([i for i in range(10, 50)]))"
      ]
    },
    {
      "cell_type": "markdown",
      "id": "9f59d7e1",
      "metadata": {
        "id": "9f59d7e1"
      },
      "source": [
        "#### 9. Create a 3x3 matrix with values ranging from 0 to 8 (★☆☆)"
      ]
    },
    {
      "cell_type": "markdown",
      "id": "6a72ba6c-f630-4e63-81b6-9c17630888e2",
      "metadata": {
        "id": "6a72ba6c-f630-4e63-81b6-9c17630888e2"
      },
      "source": [
        "`hint: reshape`"
      ]
    },
    {
      "cell_type": "code",
      "execution_count": 35,
      "id": "7449e82d",
      "metadata": {
        "deletable": false,
        "id": "7449e82d",
        "nbgrader": {
          "cell_type": "code",
          "checksum": "489b469615c287172ab90c448ac524bf",
          "grade": false,
          "grade_id": "cell-972343f87432e5b3",
          "locked": false,
          "schema_version": 3,
          "solution": true,
          "task": false
        }
      },
      "outputs": [],
      "source": [
        "answer9 = np.arange(0, 9)\n",
        "# YOUR CODE HERE\n",
        "answer9 = answer9.reshape((3, 3))\n",
        "# raise NotImplementedError()"
      ]
    },
    {
      "cell_type": "code",
      "execution_count": 36,
      "id": "cda0beb2-b58b-49d2-9f84-9182d30811a1",
      "metadata": {
        "deletable": false,
        "editable": false,
        "id": "cda0beb2-b58b-49d2-9f84-9182d30811a1",
        "nbgrader": {
          "cell_type": "code",
          "checksum": "93b62865363eeb209c5be386407f4941",
          "grade": true,
          "grade_id": "cell-53a6f8c1396334ca",
          "locked": true,
          "points": 1,
          "schema_version": 3,
          "solution": false,
          "task": false
        }
      },
      "outputs": [],
      "source": [
        "assert np.array_equal(answer9, np.matrix([[x for x in range(i*3, i*3+3)] for i in range(3)]))"
      ]
    },
    {
      "cell_type": "markdown",
      "id": "f374c4cf",
      "metadata": {
        "id": "f374c4cf"
      },
      "source": [
        "#### 10. Find indices of non-zero elements from [1,2,0,0,4,0] (★☆☆)"
      ]
    },
    {
      "cell_type": "markdown",
      "id": "f70d265b-05e0-4908-8509-ccdaa2d8f550",
      "metadata": {
        "id": "f70d265b-05e0-4908-8509-ccdaa2d8f550"
      },
      "source": [
        "`hint: np.nonzero`"
      ]
    },
    {
      "cell_type": "code",
      "execution_count": 40,
      "id": "1a84bed8",
      "metadata": {
        "deletable": false,
        "id": "1a84bed8",
        "nbgrader": {
          "cell_type": "code",
          "checksum": "7316b62884f03dc68e525f139fd68094",
          "grade": false,
          "grade_id": "cell-87813f9914f2e2fe",
          "locked": false,
          "schema_version": 3,
          "solution": true,
          "task": false
        }
      },
      "outputs": [],
      "source": [
        "nz = None\n",
        "# YOUR CODE HERE\n",
        "tmp = np.array([1, 2, 0, 0, 4, 0])\n",
        "\n",
        "nz = tmp.nonzero()\n",
        "# raise NotImplementedError()"
      ]
    },
    {
      "cell_type": "code",
      "execution_count": 41,
      "id": "2583e32a-6a17-4d50-a007-68c7f59cd798",
      "metadata": {
        "deletable": false,
        "editable": false,
        "id": "2583e32a-6a17-4d50-a007-68c7f59cd798",
        "nbgrader": {
          "cell_type": "code",
          "checksum": "cebc842e8b772dfd411089c16e48dfcf",
          "grade": true,
          "grade_id": "cell-8a41054e4ea0161f",
          "locked": true,
          "points": 1,
          "schema_version": 3,
          "solution": false,
          "task": false
        }
      },
      "outputs": [],
      "source": [
        "assert np.array_equal([0, 1, 4], nz[0])"
      ]
    },
    {
      "cell_type": "markdown",
      "id": "9c4707f5",
      "metadata": {
        "id": "9c4707f5"
      },
      "source": [
        "#### 11. Create a 3x3 identity matrix (★☆☆)"
      ]
    },
    {
      "cell_type": "markdown",
      "id": "378edcd7-7a94-4a7f-b42b-d7d01ea6e3e7",
      "metadata": {
        "id": "378edcd7-7a94-4a7f-b42b-d7d01ea6e3e7"
      },
      "source": [
        "`hint: np.eye`"
      ]
    },
    {
      "cell_type": "code",
      "execution_count": null,
      "id": "29dc1fd3",
      "metadata": {
        "deletable": false,
        "id": "29dc1fd3",
        "nbgrader": {
          "cell_type": "code",
          "checksum": "9c87436e82ac2b6d4f72f9d1724f31eb",
          "grade": false,
          "grade_id": "cell-55dabd92fbdaa065",
          "locked": false,
          "schema_version": 3,
          "solution": true,
          "task": false
        }
      },
      "outputs": [],
      "source": [
        "Z = None\n",
        "# YOUR CODE HERE\n",
        "raise NotImplementedError()"
      ]
    },
    {
      "cell_type": "code",
      "execution_count": null,
      "id": "2c762108-719b-48eb-900f-1c7d63bfe677",
      "metadata": {
        "deletable": false,
        "editable": false,
        "id": "2c762108-719b-48eb-900f-1c7d63bfe677",
        "nbgrader": {
          "cell_type": "code",
          "checksum": "ac91eb4884c7741b2ad4b8bcc081bab5",
          "grade": true,
          "grade_id": "cell-b88758a16d55c65a",
          "locked": true,
          "points": 1,
          "schema_version": 3,
          "solution": false,
          "task": false
        }
      },
      "outputs": [],
      "source": [
        "assert np.array_equal(Z, np.array([1 if i%4 == 0 else 0 for i in range(9)]).reshape((3,3)))"
      ]
    },
    {
      "cell_type": "markdown",
      "id": "3bac294a",
      "metadata": {
        "id": "3bac294a"
      },
      "source": [
        "#### 12. Create a 3x3x3 array with random values (★☆☆)"
      ]
    },
    {
      "cell_type": "markdown",
      "id": "a5ab11e0-9723-4f52-a8e4-963b2ab83a3a",
      "metadata": {
        "id": "a5ab11e0-9723-4f52-a8e4-963b2ab83a3a"
      },
      "source": [
        "`hint: np.random.random`"
      ]
    },
    {
      "cell_type": "code",
      "execution_count": null,
      "id": "eadfae67",
      "metadata": {
        "deletable": false,
        "id": "eadfae67",
        "nbgrader": {
          "cell_type": "code",
          "checksum": "c98d37061bd13976fd48d9526094c2fc",
          "grade": false,
          "grade_id": "cell-44e4bee1a203d74a",
          "locked": false,
          "schema_version": 3,
          "solution": true,
          "task": false
        }
      },
      "outputs": [],
      "source": [
        "np.random.seed(10)\n",
        "Z = None\n",
        "# YOUR CODE HERE\n",
        "raise NotImplementedError()"
      ]
    },
    {
      "cell_type": "code",
      "execution_count": null,
      "id": "2d3ab093-7c16-49b1-b8b0-f7ccb881ca94",
      "metadata": {
        "deletable": false,
        "editable": false,
        "id": "2d3ab093-7c16-49b1-b8b0-f7ccb881ca94",
        "nbgrader": {
          "cell_type": "code",
          "checksum": "04638c2139818b4b08a5bd7348bfa8b3",
          "grade": true,
          "grade_id": "cell-14b700666966532d",
          "locked": true,
          "points": 1,
          "schema_version": 3,
          "solution": false,
          "task": false
        }
      },
      "outputs": [],
      "source": [
        "exp = np.array([[[0.77132064, 0.02075195, 0.63364823],\n",
        "        [0.74880388, 0.49850701, 0.22479665],\n",
        "        [0.19806286, 0.76053071, 0.16911084]],\n",
        "       [[0.08833981, 0.68535982, 0.95339335],\n",
        "        [0.00394827, 0.51219226, 0.81262096],\n",
        "        [0.61252607, 0.72175532, 0.29187607]],\n",
        "       [[0.91777412, 0.71457578, 0.54254437],\n",
        "        [0.14217005, 0.37334076, 0.67413362],\n",
        "        [0.44183317, 0.43401399, 0.61776698]]])\n",
        "\n",
        "assert np.array_equal(np.matrix.round(Z, 6), np.matrix.round(exp, 6))"
      ]
    },
    {
      "cell_type": "markdown",
      "id": "466c2989",
      "metadata": {
        "id": "466c2989"
      },
      "source": [
        "#### 13. Create a 10x10 array with random values and find the minimum and maximum values (★☆☆)"
      ]
    },
    {
      "cell_type": "markdown",
      "id": "d133295b-f3ad-4a2d-a39c-6cab35622030",
      "metadata": {
        "id": "d133295b-f3ad-4a2d-a39c-6cab35622030"
      },
      "source": [
        "`hint: min, max`"
      ]
    },
    {
      "cell_type": "code",
      "execution_count": null,
      "id": "1wp7rZi6Kdbs",
      "metadata": {
        "deletable": false,
        "id": "1wp7rZi6Kdbs",
        "nbgrader": {
          "cell_type": "code",
          "checksum": "221d698d416746269382f19ff6b329e6",
          "grade": false,
          "grade_id": "cell-7e58389b5fb99379",
          "locked": false,
          "schema_version": 3,
          "solution": true,
          "task": false
        }
      },
      "outputs": [],
      "source": [
        "np.random.seed(10)\n",
        "Z = None\n",
        "Zmin, Zmax = None, None\n",
        "# YOUR CODE HERE\n",
        "raise NotImplementedError()"
      ]
    },
    {
      "cell_type": "code",
      "execution_count": null,
      "id": "9a74dbfc",
      "metadata": {
        "deletable": false,
        "editable": false,
        "id": "9a74dbfc",
        "nbgrader": {
          "cell_type": "code",
          "checksum": "fde3cc8f2eb1d10e77a8f260f29fee3d",
          "grade": true,
          "grade_id": "cell-c910f6b519aedb2f",
          "locked": true,
          "points": 1,
          "schema_version": 3,
          "solution": false,
          "task": false
        }
      },
      "outputs": [],
      "source": [
        "assert round(Zmin, 8) == 0.00394827\n",
        "assert round(Zmax, 8) == 0.98762547"
      ]
    },
    {
      "cell_type": "markdown",
      "id": "53a8edb2",
      "metadata": {
        "id": "53a8edb2"
      },
      "source": [
        "#### 14. Create a random vector of size 30 and find the mean value (★☆☆)"
      ]
    },
    {
      "cell_type": "markdown",
      "id": "2e59b0a6-cb92-4831-93ba-8cf706f585ec",
      "metadata": {
        "id": "2e59b0a6-cb92-4831-93ba-8cf706f585ec"
      },
      "source": [
        "`hint: mean`"
      ]
    },
    {
      "cell_type": "code",
      "execution_count": null,
      "id": "6691530b",
      "metadata": {
        "deletable": false,
        "id": "6691530b",
        "nbgrader": {
          "cell_type": "code",
          "checksum": "18fd48db11167cb442fef2cfb723e900",
          "grade": false,
          "grade_id": "cell-62066049ca50fc97",
          "locked": false,
          "schema_version": 3,
          "solution": true,
          "task": false
        }
      },
      "outputs": [],
      "source": [
        "np.random.seed(10)\n",
        "Z = None\n",
        "Zmean = None\n",
        "# YOUR CODE HERE\n",
        "raise NotImplementedError()"
      ]
    },
    {
      "cell_type": "code",
      "execution_count": null,
      "id": "4e0c8602-3df5-4669-9ac9-a9751bbcccd6",
      "metadata": {
        "deletable": false,
        "editable": false,
        "id": "4e0c8602-3df5-4669-9ac9-a9751bbcccd6",
        "nbgrader": {
          "cell_type": "code",
          "checksum": "39601f4606725b29293d7f0faeb0d232",
          "grade": true,
          "grade_id": "cell-fccccdc671b10a03",
          "locked": true,
          "points": 1,
          "schema_version": 3,
          "solution": false,
          "task": false
        }
      },
      "outputs": [],
      "source": [
        "assert round(Zmean, 8) == 0.51100906"
      ]
    },
    {
      "cell_type": "markdown",
      "id": "cbaad31c",
      "metadata": {
        "id": "cbaad31c"
      },
      "source": [
        "#### 15. Create a 10x10 2d array with 1 on the border and 0 inside (★☆☆)\n",
        "\n",
        "> Indented block\n",
        "\n"
      ]
    },
    {
      "cell_type": "markdown",
      "id": "59171eec-974e-4c35-8a2e-b6796de882f1",
      "metadata": {
        "id": "59171eec-974e-4c35-8a2e-b6796de882f1"
      },
      "source": [
        "`hint: array[1:-1, 1:-1]`"
      ]
    },
    {
      "cell_type": "code",
      "execution_count": null,
      "id": "ad8308e3",
      "metadata": {
        "deletable": false,
        "id": "ad8308e3",
        "nbgrader": {
          "cell_type": "code",
          "checksum": "8d372b35a67725b3bdd5f2e09a8b45b7",
          "grade": false,
          "grade_id": "cell-39c98695b80dfd88",
          "locked": false,
          "schema_version": 3,
          "solution": true,
          "task": false
        }
      },
      "outputs": [],
      "source": [
        "array = None\n",
        "# YOUR CODE HERE\n",
        "raise NotImplementedError()"
      ]
    },
    {
      "cell_type": "code",
      "execution_count": null,
      "id": "3YVwnaroNBd2",
      "metadata": {
        "id": "3YVwnaroNBd2"
      },
      "outputs": [],
      "source": [
        "array"
      ]
    },
    {
      "cell_type": "code",
      "execution_count": null,
      "id": "bc973d2b-18e0-4b0c-a0ec-48e392bfa2b6",
      "metadata": {
        "deletable": false,
        "editable": false,
        "id": "bc973d2b-18e0-4b0c-a0ec-48e392bfa2b6",
        "nbgrader": {
          "cell_type": "code",
          "checksum": "6bb23c49cd58c78bc2879ccd7468c412",
          "grade": true,
          "grade_id": "cell-d277d27f07e61c2c",
          "locked": true,
          "points": 1,
          "schema_version": 3,
          "solution": false,
          "task": false
        }
      },
      "outputs": [],
      "source": [
        "exp = np.array([[1., 1., 1., 1., 1., 1., 1., 1., 1., 1.],\n",
        "       [1., 0., 0., 0., 0., 0., 0., 0., 0., 1.],\n",
        "       [1., 0., 0., 0., 0., 0., 0., 0., 0., 1.],\n",
        "       [1., 0., 0., 0., 0., 0., 0., 0., 0., 1.],\n",
        "       [1., 0., 0., 0., 0., 0., 0., 0., 0., 1.],\n",
        "       [1., 0., 0., 0., 0., 0., 0., 0., 0., 1.],\n",
        "       [1., 0., 0., 0., 0., 0., 0., 0., 0., 1.],\n",
        "       [1., 0., 0., 0., 0., 0., 0., 0., 0., 1.],\n",
        "       [1., 0., 0., 0., 0., 0., 0., 0., 0., 1.],\n",
        "       [1., 1., 1., 1., 1., 1., 1., 1., 1., 1.]])\n",
        "assert np.array_equal(array, exp)"
      ]
    },
    {
      "cell_type": "markdown",
      "id": "c5ecc267",
      "metadata": {
        "id": "c5ecc267"
      },
      "source": [
        "#### 16. How to add a border (filled with 0's) around an existing array? (★☆☆)"
      ]
    },
    {
      "cell_type": "markdown",
      "id": "6037152d-2542-41c5-8698-17dac50de18a",
      "metadata": {
        "id": "6037152d-2542-41c5-8698-17dac50de18a"
      },
      "source": [
        "`hint: np.pad`"
      ]
    },
    {
      "cell_type": "code",
      "execution_count": null,
      "id": "9d5c78c4",
      "metadata": {
        "deletable": false,
        "id": "9d5c78c4",
        "nbgrader": {
          "cell_type": "code",
          "checksum": "7c5b547fdd4111060cb8d3e368159080",
          "grade": false,
          "grade_id": "cell-a4083cc764aa0701",
          "locked": false,
          "schema_version": 3,
          "solution": true,
          "task": false
        }
      },
      "outputs": [],
      "source": [
        "Z = None\n",
        "# YOUR CODE HERE\n",
        "raise NotImplementedError()"
      ]
    },
    {
      "cell_type": "code",
      "execution_count": null,
      "id": "nMtonOyFZvO_",
      "metadata": {
        "deletable": false,
        "editable": false,
        "id": "nMtonOyFZvO_",
        "nbgrader": {
          "cell_type": "code",
          "checksum": "de864e64edb894d9186a7bcd204d87b0",
          "grade": true,
          "grade_id": "cell-2ded8e2a73e101cc",
          "locked": true,
          "points": 1,
          "schema_version": 3,
          "solution": false,
          "task": false
        }
      },
      "outputs": [],
      "source": [
        "### BEGIN TEST\n",
        "exp = np.array([[0., 0., 0., 0., 0., 0., 0.],\n",
        "               [0., 1., 1., 1., 1., 1., 0.],\n",
        "               [0., 1., 1., 1., 1., 1., 0.],\n",
        "               [0., 1., 1., 1., 1., 1., 0.],\n",
        "               [0., 1., 1., 1., 1., 1., 0.],\n",
        "               [0., 1., 1., 1., 1., 1., 0.],\n",
        "               [0., 0., 0., 0., 0., 0., 0.]])\n",
        "\n",
        "assert np.array_equal(np.matrix.round(Z, 6), np.matrix.round(exp, 6))\n",
        "### END TEST"
      ]
    },
    {
      "cell_type": "markdown",
      "id": "ef909b72",
      "metadata": {
        "id": "ef909b72"
      },
      "source": [
        "#### 17. What is the result of the following expression? (★☆☆)\n",
        "```python\n",
        "0 * np.nan\n",
        "np.nan == np.nan\n",
        "np.inf > np.nan\n",
        "np.nan - np.nan\n",
        "np.nan in set([np.nan])\n",
        "0.3 == 3 * 0.1\n",
        "```"
      ]
    },
    {
      "cell_type": "markdown",
      "id": "015837a2-98f9-4b45-9b24-57da6c074bf6",
      "metadata": {
        "id": "015837a2-98f9-4b45-9b24-57da6c074bf6"
      },
      "source": [
        "`hint: NaN = not a number, inf = infinity`"
      ]
    },
    {
      "cell_type": "code",
      "execution_count": null,
      "id": "3b4985f2",
      "metadata": {
        "deletable": false,
        "id": "3b4985f2",
        "nbgrader": {
          "cell_type": "code",
          "checksum": "a3d9d3bd9dc7da5272f81ee498430188",
          "grade": false,
          "grade_id": "cell-72ab815a75c8c211",
          "locked": false,
          "schema_version": 3,
          "solution": true,
          "task": false
        }
      },
      "outputs": [],
      "source": [
        "A = None\n",
        "B = None\n",
        "C = None\n",
        "D = None\n",
        "E = None\n",
        "F = None\n",
        "\n",
        "# YOUR CODE HERE\n",
        "raise NotImplementedError()"
      ]
    },
    {
      "cell_type": "code",
      "execution_count": null,
      "id": "bff764cb-b6a8-46b7-b51b-9d8c6118c01c",
      "metadata": {
        "deletable": false,
        "editable": false,
        "id": "bff764cb-b6a8-46b7-b51b-9d8c6118c01c",
        "nbgrader": {
          "cell_type": "code",
          "checksum": "88e66b7fffbe4df9c775ecc23fd2099c",
          "grade": true,
          "grade_id": "cell-ec04eb0ff109bda1",
          "locked": true,
          "points": 1,
          "schema_version": 3,
          "solution": false,
          "task": false
        }
      },
      "outputs": [],
      "source": []
    },
    {
      "cell_type": "markdown",
      "id": "502738ac",
      "metadata": {
        "id": "502738ac"
      },
      "source": [
        "#### 18. Create a 5x5 matrix with values 1,2,3,4 just below the diagonal (★☆☆)"
      ]
    },
    {
      "cell_type": "markdown",
      "id": "8699a242-ec8d-4484-95c0-b905fe65add6",
      "metadata": {
        "id": "8699a242-ec8d-4484-95c0-b905fe65add6"
      },
      "source": [
        "`hint: np.diag`"
      ]
    },
    {
      "cell_type": "code",
      "execution_count": null,
      "id": "faed6e2b",
      "metadata": {
        "deletable": false,
        "id": "faed6e2b",
        "nbgrader": {
          "cell_type": "code",
          "checksum": "f99947f39aa705413d161ad7da781661",
          "grade": false,
          "grade_id": "cell-9a0d1cb98d50ad4e",
          "locked": false,
          "schema_version": 3,
          "solution": true,
          "task": false
        }
      },
      "outputs": [],
      "source": [
        "Z = None\n",
        "\n",
        "# YOUR CODE HERE\n",
        "raise NotImplementedError()"
      ]
    },
    {
      "cell_type": "code",
      "execution_count": null,
      "id": "59a9ab5e-d2c9-4a9b-a098-384634150b2a",
      "metadata": {
        "deletable": false,
        "editable": false,
        "id": "59a9ab5e-d2c9-4a9b-a098-384634150b2a",
        "nbgrader": {
          "cell_type": "code",
          "checksum": "1c484b7a287397172af6074c2f0448cd",
          "grade": true,
          "grade_id": "cell-07b6d4d3a4c333ec",
          "locked": true,
          "points": 1,
          "schema_version": 3,
          "solution": false,
          "task": false
        }
      },
      "outputs": [],
      "source": [
        "### BEGIN TEST\n",
        "exp = np.array([[0, 0, 0, 0, 0],\n",
        "               [1, 0, 0, 0, 0],\n",
        "               [0, 2, 0, 0, 0],\n",
        "               [0, 0, 3, 0, 0],\n",
        "               [0, 0, 0, 4, 0]])\n",
        "\n",
        "assert np.array_equal(np.matrix.round(Z, 6), np.matrix.round(exp, 6))\n",
        "### END TEST"
      ]
    },
    {
      "cell_type": "markdown",
      "id": "66bfda35",
      "metadata": {
        "id": "66bfda35"
      },
      "source": [
        "#### 21. Create a checkerboard 8x8 matrix using the tile function (★☆☆)"
      ]
    },
    {
      "cell_type": "markdown",
      "id": "7dbd362e-1ce5-4717-9e09-be69b26f81a6",
      "metadata": {
        "id": "7dbd362e-1ce5-4717-9e09-be69b26f81a6"
      },
      "source": [
        "`hint: np.tile`"
      ]
    },
    {
      "cell_type": "code",
      "execution_count": null,
      "id": "4c07477c",
      "metadata": {
        "deletable": false,
        "id": "4c07477c",
        "nbgrader": {
          "cell_type": "code",
          "checksum": "d001809313cb6d7c2d58e8e09c6ff29c",
          "grade": false,
          "grade_id": "cell-ff6d52fa8da1b789",
          "locked": false,
          "schema_version": 3,
          "solution": true,
          "task": false
        }
      },
      "outputs": [],
      "source": [
        "Z = None\n",
        "\n",
        "# YOUR CODE HERE\n",
        "raise NotImplementedError()"
      ]
    },
    {
      "cell_type": "code",
      "execution_count": null,
      "id": "6dffe377-6c08-48c3-8282-0fc14d19ae48",
      "metadata": {
        "deletable": false,
        "editable": false,
        "id": "6dffe377-6c08-48c3-8282-0fc14d19ae48",
        "nbgrader": {
          "cell_type": "code",
          "checksum": "965b7c063ef047da17b4684036032523",
          "grade": true,
          "grade_id": "cell-72f686ddb377d7d9",
          "locked": true,
          "points": 1,
          "schema_version": 3,
          "solution": false,
          "task": false
        }
      },
      "outputs": [],
      "source": [
        "### BEGIN TEST\n",
        "exp = np.array([[0, 1, 0, 1, 0, 1, 0, 1],\n",
        "               [1, 0, 1, 0, 1, 0, 1, 0],\n",
        "               [0, 1, 0, 1, 0, 1, 0, 1],\n",
        "               [1, 0, 1, 0, 1, 0, 1, 0],\n",
        "               [0, 1, 0, 1, 0, 1, 0, 1],\n",
        "               [1, 0, 1, 0, 1, 0, 1, 0],\n",
        "               [0, 1, 0, 1, 0, 1, 0, 1],\n",
        "               [1, 0, 1, 0, 1, 0, 1, 0]])\n",
        "\n",
        "assert np.array_equal(np.matrix.round(Z, 6), np.matrix.round(exp, 6))\n",
        "### END TEST"
      ]
    },
    {
      "cell_type": "markdown",
      "id": "654805b1",
      "metadata": {
        "id": "654805b1"
      },
      "source": [
        "#### 24. Multiply a 5x3 matrix by a 3x2 matrix (real matrix product) when both initially contain 1 (★☆☆)"
      ]
    },
    {
      "cell_type": "markdown",
      "id": "814bc514-2dd1-44f8-b99d-9640504e0325",
      "metadata": {
        "id": "814bc514-2dd1-44f8-b99d-9640504e0325"
      },
      "source": [
        "`No hints provided...`"
      ]
    },
    {
      "cell_type": "code",
      "execution_count": null,
      "id": "6a42619f",
      "metadata": {
        "deletable": false,
        "id": "6a42619f",
        "nbgrader": {
          "cell_type": "code",
          "checksum": "f276c02ad820b6dd9f513629c373f3e6",
          "grade": false,
          "grade_id": "cell-d6ab040c4bffe8a4",
          "locked": false,
          "schema_version": 3,
          "solution": true,
          "task": false
        }
      },
      "outputs": [],
      "source": [
        "Z = None\n",
        "\n",
        "# YOUR CODE HERE\n",
        "raise NotImplementedError()"
      ]
    },
    {
      "cell_type": "code",
      "execution_count": null,
      "id": "5182a616-7d7c-44c0-baae-47086844b632",
      "metadata": {
        "deletable": false,
        "editable": false,
        "id": "5182a616-7d7c-44c0-baae-47086844b632",
        "nbgrader": {
          "cell_type": "code",
          "checksum": "5206061b5683d2e393ece174d9c24755",
          "grade": true,
          "grade_id": "cell-89d59c9ae96b8129",
          "locked": true,
          "points": 1,
          "schema_version": 3,
          "solution": false,
          "task": false
        }
      },
      "outputs": [],
      "source": [
        "### BEGIN TEST\n",
        "exp = np.array([[3., 3.],\n",
        "               [3., 3.],\n",
        "               [3., 3.],\n",
        "               [3., 3.],\n",
        "               [3., 3.]])\n",
        "\n",
        "assert np.array_equal(np.matrix.round(Z, 6), np.matrix.round(exp, 6))\n",
        "### END TEST"
      ]
    },
    {
      "cell_type": "markdown",
      "id": "994c25df",
      "metadata": {
        "id": "994c25df"
      },
      "source": [
        "#### 25. Given a 1D array, negate all elements which are between 3 and 8, in place. (★☆☆)"
      ]
    },
    {
      "cell_type": "markdown",
      "id": "1dd24d5e-f404-42a7-9ccd-244c004df1cc",
      "metadata": {
        "id": "1dd24d5e-f404-42a7-9ccd-244c004df1cc"
      },
      "source": [
        "`hint: > or <`"
      ]
    },
    {
      "cell_type": "code",
      "execution_count": null,
      "id": "e4b39c03",
      "metadata": {
        "deletable": false,
        "id": "e4b39c03",
        "nbgrader": {
          "cell_type": "code",
          "checksum": "bb08f8ca3d62ca4be1261281d8972f0b",
          "grade": false,
          "grade_id": "cell-2c3164e3524c0b09",
          "locked": false,
          "schema_version": 3,
          "solution": true,
          "task": false
        }
      },
      "outputs": [],
      "source": [
        "Z = None\n",
        "# YOUR CODE HERE\n",
        "raise NotImplementedError()"
      ]
    },
    {
      "cell_type": "code",
      "execution_count": null,
      "id": "5321b5fc-1ee9-4309-b073-3209a6e4aa7b",
      "metadata": {
        "deletable": false,
        "editable": false,
        "id": "5321b5fc-1ee9-4309-b073-3209a6e4aa7b",
        "nbgrader": {
          "cell_type": "code",
          "checksum": "c1b21e9c5274708660630a281a8320a9",
          "grade": true,
          "grade_id": "cell-32f0a60de00bb0db",
          "locked": true,
          "points": 1,
          "schema_version": 3,
          "solution": false,
          "task": false
        }
      },
      "outputs": [],
      "source": [
        "### BEGIN TEST\n",
        "exp = np.array([ 0,  1,  2,  3, -4, -5, -6, -7,  8,  9, 10])\n",
        "\n",
        "assert np.array_equal(np.matrix.round(Z, 6), np.matrix.round(exp, 6))\n",
        "### END TEST"
      ]
    },
    {
      "cell_type": "markdown",
      "id": "b7d15d1a",
      "metadata": {
        "id": "b7d15d1a"
      },
      "source": [
        "#### 26. What is the output of the following script? (★☆☆)\n",
        "```python\n",
        "# Author: Jake VanderPlas\n",
        "\n",
        "print(sum(range(5),-1))\n",
        "from numpy import *\n",
        "print(sum(range(5),-1))\n",
        "```"
      ]
    },
    {
      "cell_type": "markdown",
      "id": "d9734278-727b-472f-af0b-5cc8032fb653",
      "metadata": {
        "id": "d9734278-727b-472f-af0b-5cc8032fb653"
      },
      "source": [
        "`hint: np.sum`"
      ]
    },
    {
      "cell_type": "code",
      "execution_count": null,
      "id": "4c95bc3f",
      "metadata": {
        "deletable": false,
        "id": "4c95bc3f",
        "nbgrader": {
          "cell_type": "code",
          "checksum": "c2fe145340d971f2f0a69e9081af6bb7",
          "grade": false,
          "grade_id": "cell-0467f751410b0893",
          "locked": false,
          "schema_version": 3,
          "solution": true,
          "task": false
        }
      },
      "outputs": [],
      "source": [
        "print1 = None\n",
        "print2 = None\n",
        "\n",
        "# YOUR CODE HERE\n",
        "raise NotImplementedError()"
      ]
    },
    {
      "cell_type": "code",
      "execution_count": null,
      "id": "1f6ea4cd-ccd1-4b05-99a1-c2e2a57cbba2",
      "metadata": {
        "deletable": false,
        "editable": false,
        "id": "1f6ea4cd-ccd1-4b05-99a1-c2e2a57cbba2",
        "nbgrader": {
          "cell_type": "code",
          "checksum": "905681e4f24c9d498d511746aef97c5c",
          "grade": true,
          "grade_id": "cell-568b0398ea57c5eb",
          "locked": true,
          "points": 1,
          "schema_version": 3,
          "solution": false,
          "task": false
        }
      },
      "outputs": [],
      "source": []
    },
    {
      "cell_type": "markdown",
      "id": "a34f0d08",
      "metadata": {
        "id": "a34f0d08"
      },
      "source": [
        "#### 27. Consider an integer vector Z, which of these expressions are legal? (★☆☆)\n",
        "```python\n",
        "Z**Z\n",
        "2 << Z >> 2\n",
        "Z <- Z\n",
        "1j*Z\n",
        "Z/1/1\n",
        "Z<Z>Z\n",
        "```"
      ]
    },
    {
      "cell_type": "markdown",
      "id": "a4849ab5-cfc8-4715-878b-1513289f5b86",
      "metadata": {
        "id": "a4849ab5-cfc8-4715-878b-1513289f5b86"
      },
      "source": [
        "`No hints provided...`"
      ]
    },
    {
      "cell_type": "code",
      "execution_count": null,
      "id": "564658fc",
      "metadata": {
        "deletable": false,
        "id": "564658fc",
        "nbgrader": {
          "cell_type": "code",
          "checksum": "e53e13195afc0115de97f7f309427d9f",
          "grade": false,
          "grade_id": "cell-4f6b39b8503069b7",
          "locked": false,
          "schema_version": 3,
          "solution": true,
          "task": false
        }
      },
      "outputs": [],
      "source": [
        "# Put `True` if legal otherwise, put `False`.\n",
        "\n",
        "A = None # Z**Z\n",
        "B = None # 2 << Z >> 2\n",
        "C = None # Z <- Z\n",
        "E = None # 1j*Z\n",
        "E = None # Z/1/1\n",
        "F = None # Z<Z>Z\n",
        "\n",
        "# YOUR CODE HERE\n",
        "raise NotImplementedError()"
      ]
    },
    {
      "cell_type": "code",
      "execution_count": null,
      "id": "88a97318-1ca7-49de-99c3-a80b7b3a3d65",
      "metadata": {
        "deletable": false,
        "editable": false,
        "id": "88a97318-1ca7-49de-99c3-a80b7b3a3d65",
        "nbgrader": {
          "cell_type": "code",
          "checksum": "4657bb3b5583f5d3563af90e3908815c",
          "grade": true,
          "grade_id": "cell-67fded3e84618e95",
          "locked": true,
          "points": 1,
          "schema_version": 3,
          "solution": false,
          "task": false
        }
      },
      "outputs": [],
      "source": []
    },
    {
      "cell_type": "markdown",
      "id": "c34e94bf",
      "metadata": {
        "id": "c34e94bf"
      },
      "source": [
        "#### 28. What are the result of the following expressions? (★☆☆)\n",
        "```python\n",
        "np.array(0) / np.array(0)\n",
        "np.array(0) // np.array(0)\n",
        "np.array([np.nan]).astype(int).astype(float)\n",
        "```"
      ]
    },
    {
      "cell_type": "markdown",
      "id": "a702eca5-5f4d-46b1-aad3-d501393f269e",
      "metadata": {
        "id": "a702eca5-5f4d-46b1-aad3-d501393f269e"
      },
      "source": [
        "`No hints provided...`"
      ]
    },
    {
      "cell_type": "code",
      "execution_count": null,
      "id": "56663562",
      "metadata": {
        "deletable": false,
        "id": "56663562",
        "nbgrader": {
          "cell_type": "code",
          "checksum": "d4396188b78398ba0991f1fc1fab94fc",
          "grade": false,
          "grade_id": "cell-b92fd082c5465ced",
          "locked": false,
          "schema_version": 3,
          "solution": true,
          "task": false
        }
      },
      "outputs": [],
      "source": [
        "A = None\n",
        "B = None\n",
        "C = None\n",
        "\n",
        "# YOUR CODE HERE\n",
        "raise NotImplementedError()"
      ]
    },
    {
      "cell_type": "code",
      "execution_count": null,
      "id": "8IlGz1ORhWbR",
      "metadata": {
        "id": "8IlGz1ORhWbR"
      },
      "outputs": [],
      "source": [
        "C"
      ]
    },
    {
      "cell_type": "code",
      "execution_count": null,
      "id": "c865b499-024e-40e1-bc59-db70a3e97e64",
      "metadata": {
        "deletable": false,
        "editable": false,
        "id": "c865b499-024e-40e1-bc59-db70a3e97e64",
        "nbgrader": {
          "cell_type": "code",
          "checksum": "875ee3f12f7b470c78d3aa7415d2cd2e",
          "grade": true,
          "grade_id": "cell-2a958062841bd93c",
          "locked": true,
          "points": 1,
          "schema_version": 3,
          "solution": false,
          "task": false
        }
      },
      "outputs": [],
      "source": []
    },
    {
      "cell_type": "markdown",
      "id": "eadca856",
      "metadata": {
        "id": "eadca856"
      },
      "source": [
        "#### 30. How to find common values between two arrays? (★☆☆)"
      ]
    },
    {
      "cell_type": "markdown",
      "id": "98a2d9a0-d203-4626-8772-4414710646ae",
      "metadata": {
        "id": "98a2d9a0-d203-4626-8772-4414710646ae"
      },
      "source": [
        "`hint: np.intersect1d`"
      ]
    },
    {
      "cell_type": "code",
      "execution_count": null,
      "id": "e0270b5b",
      "metadata": {
        "deletable": false,
        "id": "e0270b5b",
        "nbgrader": {
          "cell_type": "code",
          "checksum": "9e611864091f9ec23ee51186829512e1",
          "grade": false,
          "grade_id": "cell-e56f557c9cb773ba",
          "locked": false,
          "schema_version": 3,
          "solution": true,
          "task": false
        }
      },
      "outputs": [],
      "source": [
        "np.random.seed(10)\n",
        "Z1 = np.random.randint(0,10,10)\n",
        "Z2 = np.random.randint(0,10,10)\n",
        "\n",
        "ans_30 = None\n",
        "\n",
        "# YOUR CODE HERE\n",
        "raise NotImplementedError()"
      ]
    },
    {
      "cell_type": "code",
      "execution_count": null,
      "id": "bbbecf00-5908-464e-b13c-0d43056aba57",
      "metadata": {
        "deletable": false,
        "editable": false,
        "id": "bbbecf00-5908-464e-b13c-0d43056aba57",
        "nbgrader": {
          "cell_type": "code",
          "checksum": "1c29fc9e62a2b3192c80fbcdbc51f9b2",
          "grade": true,
          "grade_id": "cell-ae809cda496c7561",
          "locked": true,
          "points": 1,
          "schema_version": 3,
          "solution": false,
          "task": false
        }
      },
      "outputs": [],
      "source": [
        "### BEGIN TEST\n",
        "exp = np.array([0, 1, 4, 8])\n",
        "\n",
        "assert np.array_equal(np.matrix.round(ans_30, 6), np.matrix.round(exp, 6))\n",
        "### END TEST"
      ]
    },
    {
      "cell_type": "markdown",
      "id": "ca16ca22",
      "metadata": {
        "id": "ca16ca22"
      },
      "source": [
        "#### 31. How to ignore all numpy warnings (not recommended)? (★☆☆)"
      ]
    },
    {
      "cell_type": "markdown",
      "id": "6a588bf6-16e9-4da1-9a0e-998cd4d17fb3",
      "metadata": {
        "id": "6a588bf6-16e9-4da1-9a0e-998cd4d17fb3"
      },
      "source": [
        "`hint: np.seterr, np.errstate`"
      ]
    },
    {
      "cell_type": "code",
      "execution_count": null,
      "id": "7d7208ef",
      "metadata": {
        "deletable": false,
        "id": "7d7208ef",
        "nbgrader": {
          "cell_type": "code",
          "checksum": "a0edb5874b8a387462cb81144b3756d2",
          "grade": false,
          "grade_id": "cell-821f3dc3780f8562",
          "locked": false,
          "schema_version": 3,
          "solution": true,
          "task": false
        }
      },
      "outputs": [],
      "source": [
        "\n",
        "Z = np.ones(1) / 0\n",
        "# YOUR CODE HERE\n",
        "raise NotImplementedError()"
      ]
    },
    {
      "cell_type": "markdown",
      "id": "c7871d0d",
      "metadata": {
        "id": "c7871d0d"
      },
      "source": [
        "#### 32. Is the following expressions true? (★☆☆)\n",
        "```python\n",
        "np.sqrt(-1) == np.emath.sqrt(-1)\n",
        "```"
      ]
    },
    {
      "cell_type": "markdown",
      "id": "e720d1d0-b98a-4f53-ba22-524836085e57",
      "metadata": {
        "id": "e720d1d0-b98a-4f53-ba22-524836085e57"
      },
      "source": [
        "`hint: imaginary number`"
      ]
    },
    {
      "cell_type": "code",
      "execution_count": null,
      "id": "acc3701a",
      "metadata": {
        "deletable": false,
        "id": "acc3701a",
        "nbgrader": {
          "cell_type": "code",
          "checksum": "07a6ef4bb5b5b906c12572781113388e",
          "grade": false,
          "grade_id": "cell-88fe5d7371e493a5",
          "locked": false,
          "schema_version": 3,
          "solution": true,
          "task": false
        }
      },
      "outputs": [],
      "source": [
        "Z = None # True or False\n",
        "# YOUR CODE HERE\n",
        "raise NotImplementedError()"
      ]
    },
    {
      "cell_type": "code",
      "execution_count": null,
      "id": "131a08e0-2318-49fa-83ed-f0a7ebcff420",
      "metadata": {
        "deletable": false,
        "editable": false,
        "id": "131a08e0-2318-49fa-83ed-f0a7ebcff420",
        "nbgrader": {
          "cell_type": "code",
          "checksum": "9b0808df0f6e89dbda0ddf31e500ddbf",
          "grade": true,
          "grade_id": "cell-77948163b3b1f949",
          "locked": true,
          "points": 1,
          "schema_version": 3,
          "solution": false,
          "task": false
        }
      },
      "outputs": [],
      "source": []
    },
    {
      "cell_type": "markdown",
      "id": "4a64e059",
      "metadata": {
        "id": "4a64e059"
      },
      "source": [
        "#### 35. How to compute ((A+B)*(-A/2)) in place (without copy)? (★★☆)"
      ]
    },
    {
      "cell_type": "markdown",
      "id": "bc6803b8-f2ec-4aa4-9204-0a8c258114e0",
      "metadata": {
        "id": "bc6803b8-f2ec-4aa4-9204-0a8c258114e0"
      },
      "source": [
        "`hint: np.add(out=), np.negative(out=), np.multiply(out=), np.divide(out=)`"
      ]
    },
    {
      "cell_type": "code",
      "execution_count": null,
      "id": "49267f60",
      "metadata": {
        "deletable": false,
        "id": "49267f60",
        "nbgrader": {
          "cell_type": "code",
          "checksum": "d6f6a35a069442366921f282dc751d99",
          "grade": false,
          "grade_id": "cell-6078ef2ebe6681b7",
          "locked": false,
          "schema_version": 3,
          "solution": true,
          "task": false
        }
      },
      "outputs": [],
      "source": [
        "A = np.ones(3)*1\n",
        "B = np.ones(3)*2\n",
        "\n",
        "# YOUR CODE HERE\n",
        "raise NotImplementedError()"
      ]
    },
    {
      "cell_type": "code",
      "execution_count": null,
      "id": "9c2324fe-c420-4d7a-8076-45c96b53f7fa",
      "metadata": {
        "deletable": false,
        "editable": false,
        "id": "9c2324fe-c420-4d7a-8076-45c96b53f7fa",
        "nbgrader": {
          "cell_type": "code",
          "checksum": "17b4b635923c432dae69ffcc3a31dc0b",
          "grade": true,
          "grade_id": "cell-2e6aa5917ec4a15c",
          "locked": true,
          "points": 1,
          "schema_version": 3,
          "solution": false,
          "task": false
        }
      },
      "outputs": [],
      "source": [
        "### BEGIN TEST\n",
        "exp = np.array([-1.5, -1.5, -1.5])\n",
        "\n",
        "assert np.array_equal(np.matrix.round(A, 6), np.matrix.round(exp, 6))\n",
        "### END TEST"
      ]
    },
    {
      "cell_type": "markdown",
      "id": "8a98c2a8",
      "metadata": {
        "id": "8a98c2a8"
      },
      "source": [
        "#### 36. Extract the integer part of a random array of positive numbers using 4 different methods (★★☆)"
      ]
    },
    {
      "cell_type": "markdown",
      "id": "fcfb3390-ffe3-42ba-8f1f-67b87836a362",
      "metadata": {
        "id": "fcfb3390-ffe3-42ba-8f1f-67b87836a362"
      },
      "source": [
        "`hint: %, np.floor, astype, np.trunc`"
      ]
    },
    {
      "cell_type": "code",
      "execution_count": null,
      "id": "368130b3",
      "metadata": {
        "deletable": false,
        "id": "368130b3",
        "nbgrader": {
          "cell_type": "code",
          "checksum": "95b4458d4ee5937d5713459f870b7796",
          "grade": false,
          "grade_id": "cell-3e073effc35d1666",
          "locked": false,
          "schema_version": 3,
          "solution": true,
          "task": false
        }
      },
      "outputs": [],
      "source": [
        "np.random.seed(10)\n",
        "ans_36 = np.random.uniform(0,10,10)\n",
        "\n",
        "modulo_ans = None\n",
        "floor_ans = None\n",
        "type_ans = None\n",
        "truc_ans = None\n",
        "\n",
        "# YOUR CODE HERE\n",
        "raise NotImplementedError()"
      ]
    },
    {
      "cell_type": "code",
      "execution_count": null,
      "id": "9815d78e-24a1-4965-bbf2-c3cbfe049597",
      "metadata": {
        "deletable": false,
        "editable": false,
        "id": "9815d78e-24a1-4965-bbf2-c3cbfe049597",
        "nbgrader": {
          "cell_type": "code",
          "checksum": "1f81901db23f4740e7abbf75d741925c",
          "grade": true,
          "grade_id": "cell-0d80b94ebfa9f351",
          "locked": true,
          "points": 1,
          "schema_version": 3,
          "solution": false,
          "task": false
        }
      },
      "outputs": [],
      "source": [
        "### BEGIN TEST\n",
        "modulo_exp = np.array([0.85359818, 0.53393346, 0.03948266, 0.12192263, 0.12620962,\n",
        "       0.12526067, 0.21755317, 0.91876068, 0.17774123, 0.14575783])\n",
        "floor_exp = np.array([6., 9., 0., 5., 8., 6., 7., 2., 9., 7.])\n",
        "type_exp = np.array([6., 9., 0., 5., 8., 6., 7., 2., 9., 7.])\n",
        "truc_exp = np.array([6, 9, 0, 5, 8, 6, 7, 2, 9, 7])\n",
        "\n",
        "assert np.array_equal(np.matrix.round(modulo_ans, 6), np.matrix.round(modulo_exp, 6))\n",
        "assert np.array_equal(np.matrix.round(floor_ans, 6), np.matrix.round(floor_exp, 6))\n",
        "assert np.array_equal(np.matrix.round(type_ans, 6), np.matrix.round(type_exp, 6))\n",
        "assert np.array_equal(np.matrix.round(truc_ans, 6), np.matrix.round(truc_exp, 6))\n",
        "### END TEST"
      ]
    },
    {
      "cell_type": "markdown",
      "id": "5a2e3d85",
      "metadata": {
        "id": "5a2e3d85"
      },
      "source": [
        "#### 37. Create a 5x5 matrix with row values ranging from 0 to 4 (★★☆)"
      ]
    },
    {
      "cell_type": "markdown",
      "id": "46a9aea8-a3ea-49f2-abc8-d97c90011db7",
      "metadata": {
        "id": "46a9aea8-a3ea-49f2-abc8-d97c90011db7"
      },
      "source": [
        "`hint: np.arange`"
      ]
    },
    {
      "cell_type": "code",
      "execution_count": null,
      "id": "1d974e8f",
      "metadata": {
        "deletable": false,
        "id": "1d974e8f",
        "nbgrader": {
          "cell_type": "code",
          "checksum": "2acb49acf2de0472fadaf0ba0e9cad21",
          "grade": false,
          "grade_id": "cell-e7b56df22efdadcb",
          "locked": false,
          "schema_version": 3,
          "solution": true,
          "task": false
        }
      },
      "outputs": [],
      "source": [
        "Z = None\n",
        "\n",
        "# YOUR CODE HERE\n",
        "raise NotImplementedError()"
      ]
    },
    {
      "cell_type": "code",
      "execution_count": null,
      "id": "eaef2950-c201-4d83-9382-88d4d6983c70",
      "metadata": {
        "deletable": false,
        "editable": false,
        "id": "eaef2950-c201-4d83-9382-88d4d6983c70",
        "nbgrader": {
          "cell_type": "code",
          "checksum": "48f826b4b622566bb7be05d46bed5c74",
          "grade": true,
          "grade_id": "cell-d25608ec91eab549",
          "locked": true,
          "points": 1,
          "schema_version": 3,
          "solution": false,
          "task": false
        }
      },
      "outputs": [],
      "source": [
        "### BEGIN TEST\n",
        "exp = np.array([[0., 1., 2., 3., 4.],\n",
        "       [0., 1., 2., 3., 4.],\n",
        "       [0., 1., 2., 3., 4.],\n",
        "       [0., 1., 2., 3., 4.],\n",
        "       [0., 1., 2., 3., 4.]])\n",
        "\n",
        "assert np.array_equal(np.matrix.round(Z, 6), np.matrix.round(exp, 6))\n",
        "### END TEST"
      ]
    },
    {
      "cell_type": "markdown",
      "id": "a36d6ee4",
      "metadata": {
        "id": "a36d6ee4"
      },
      "source": [
        "#### 40. Create a random vector of size 10 and sort it (★★☆)"
      ]
    },
    {
      "cell_type": "markdown",
      "id": "93371c80-5590-4f07-abd0-5dfa7114884a",
      "metadata": {
        "id": "93371c80-5590-4f07-abd0-5dfa7114884a"
      },
      "source": [
        "`hint: sort`"
      ]
    },
    {
      "cell_type": "code",
      "execution_count": null,
      "id": "e589d216",
      "metadata": {
        "deletable": false,
        "id": "e589d216",
        "nbgrader": {
          "cell_type": "code",
          "checksum": "5f86cf158922aa26e6a5c88a8766fc0c",
          "grade": false,
          "grade_id": "cell-87e13b86256435fe",
          "locked": false,
          "schema_version": 3,
          "solution": true,
          "task": false
        }
      },
      "outputs": [],
      "source": [
        "np.random.seed(10)\n",
        "Z = None\n",
        "\n",
        "# YOUR CODE HERE\n",
        "raise NotImplementedError()"
      ]
    },
    {
      "cell_type": "code",
      "execution_count": null,
      "id": "2e5ee1e9-6333-40f2-99eb-c91fe20aca26",
      "metadata": {
        "deletable": false,
        "editable": false,
        "id": "2e5ee1e9-6333-40f2-99eb-c91fe20aca26",
        "nbgrader": {
          "cell_type": "code",
          "checksum": "3e9e98309e363ea81472cd630742f7e9",
          "grade": true,
          "grade_id": "cell-5ecf24d586341ea0",
          "locked": true,
          "points": 1,
          "schema_version": 3,
          "solution": false,
          "task": false
        }
      },
      "outputs": [],
      "source": [
        "### BEGIN TEST\n",
        "exp = np.array([0.02075195, 0.08833981, 0.16911084, 0.19806286, 0.22479665,\n",
        "       0.49850701, 0.63364823, 0.74880388, 0.76053071, 0.77132064])\n",
        "\n",
        "assert np.array_equal(np.matrix.round(Z, 6), np.matrix.round(exp, 6))\n",
        "### END TEST"
      ]
    }
  ],
  "metadata": {
    "colab": {
      "provenance": [],
      "include_colab_link": true
    },
    "kernelspec": {
      "display_name": "Python 3 (ipykernel)",
      "language": "python",
      "name": "python3"
    },
    "language_info": {
      "codemirror_mode": {
        "name": "ipython",
        "version": 3
      },
      "file_extension": ".py",
      "mimetype": "text/x-python",
      "name": "python",
      "nbconvert_exporter": "python",
      "pygments_lexer": "ipython3",
      "version": "3.10.12"
    }
  },
  "nbformat": 4,
  "nbformat_minor": 5
}