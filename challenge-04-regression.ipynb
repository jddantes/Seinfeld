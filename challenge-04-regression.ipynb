{
  "cells": [
    {
      "cell_type": "markdown",
      "metadata": {
        "id": "view-in-github",
        "colab_type": "text"
      },
      "source": [
        "<a href=\"https://colab.research.google.com/github/jddantes/Seinfeld/blob/master/challenge-04-regression.ipynb\" target=\"_parent\"><img src=\"https://colab.research.google.com/assets/colab-badge.svg\" alt=\"Open In Colab\"/></a>"
      ]
    },
    {
      "cell_type": "markdown",
      "metadata": {
        "id": "2cO1MEI3lbw2"
      },
      "source": [
        "Before you turn this problem in, make sure everything runs as expected. First, **restart the kernel** (in the menubar, select Kernel$\\rightarrow$Restart) and then **run all cells** (in the menubar, select Cell$\\rightarrow$Run All).\n",
        "\n",
        "Make sure you fill in any place that says `YOUR CODE HERE` or \"YOUR ANSWER HERE\", as well as your name and collaborators below:"
      ]
    },
    {
      "cell_type": "code",
      "execution_count": 1,
      "metadata": {
        "id": "AKc470bFlbw4"
      },
      "outputs": [],
      "source": [
        "NAME = \"JD Dantes\"\n",
        "COLLABORATORS = \"Kat Compendio\""
      ]
    },
    {
      "cell_type": "markdown",
      "metadata": {
        "id": "SuWSlJr2lbw4"
      },
      "source": [
        "---"
      ]
    },
    {
      "cell_type": "markdown",
      "metadata": {
        "id": "qLKr6NheJKfU"
      },
      "source": [
        "# Challenge 04: Regression"
      ]
    },
    {
      "cell_type": "markdown",
      "metadata": {
        "id": "3NjCFJBJJN3H"
      },
      "source": [
        "## Definitions\n"
      ]
    },
    {
      "cell_type": "markdown",
      "metadata": {
        "id": "JE9b0BBsAMu5"
      },
      "source": [
        "### Design matrix"
      ]
    },
    {
      "cell_type": "markdown",
      "metadata": {
        "id": "CojpCARHJTbt"
      },
      "source": [
        "A **design matrix** loosely defined is a matrix that contains data about one's independent variables. Typically, your _columns_ represent the different features or observables of your data, while your _rows_ represent individual samples or measurements of those features.\n",
        "\n",
        "---\n",
        "\n",
        "EX: _(Grades vs study hours)_\n",
        "\n",
        "Let's say we're trying to study the relationship between grades (our dependent variable $\\vec{y}$) and the number of hours of study (our independent variable $\\vec{x}$):\n",
        "\n",
        "| # | Grade | Number of hours of study |\n",
        "| --- | --- | --- |\n",
        "| 1 | 89 | 1.0 |\n",
        "| 2 | 82 | 2.0 |\n",
        "| 3 | 91 | 3.0 |\n",
        "| 4 | 94 | 1.5 |\n",
        "| 5 | 79 | 0.5 |\n",
        "\n",
        "Then a design matrix for this could be:\n",
        "\n",
        "$$\n",
        "X =\n",
        "\\begin{bmatrix}\n",
        "1 & 1.0 \\\\\n",
        "1 & 2.0 \\\\\n",
        "1 & 3.0 \\\\\n",
        "1 & 1.5 \\\\\n",
        "1 & 0.5\n",
        "\\end{bmatrix}\n",
        "$$\n",
        "\n",
        "Here, we _augmented_ the design matrix with an $n \\times 1$ column of 1s for reasons that will be clear in the next section."
      ]
    },
    {
      "cell_type": "markdown",
      "metadata": {
        "id": "n0aZXobsJE30"
      },
      "source": [
        "### Linear regression"
      ]
    },
    {
      "cell_type": "markdown",
      "metadata": {
        "id": "JUw2A7bWJXpn"
      },
      "source": [
        "Suppose you have a set of observations  $\\{(x_i, y_i)\\}$ represented by the vectors $\\vec{x}$ (independent) and $\\vec{y}$ (dependent). One way to model the relationship explaining this data is to assume a linear relationship $y_i = \\beta_0 + x_i \\beta_1 + \\epsilon_i$, where $\\vec{\\beta} =\\begin{bmatrix}\\beta_0 \\\\ \\beta_1\\end{bmatrix}$ represent the y-intercept and the slope respectively and $\\epsilon_i$ is the random error of mean zero associated with the ith sample.\n",
        "\n",
        "\n",
        "---\n",
        "\n",
        "EX: _(Grades vs study hours)_\n",
        "\n",
        "For our data earlier, this implies the following observational equations:\n",
        "\n",
        "\n",
        "\\begin{align}\n",
        "89 &= \\beta_0 + (1.0) \\beta_1 + \\epsilon_1 \\\\\n",
        "82 &= \\beta_0 + (2.0) \\beta_1 + \\epsilon_2 \\\\\n",
        "91 &= \\beta_0 + (3.0) \\beta_1 + \\epsilon_3 \\\\\n",
        "94 &= \\beta_0 + (1.5) \\beta_1 + \\epsilon_4 \\\\\n",
        "79 &= \\beta_0 + (0.5) \\beta_1 + \\epsilon_5\n",
        "\\end{align}\n",
        "\n",
        "Or in matrix form:\n",
        "\n",
        "$$\\vec{y} = \\mathbf{X} \\begin{bmatrix}\\beta_0 \\\\ \\beta_1\\end{bmatrix} + \\vec{\\epsilon}$$\n",
        "\n",
        "where $\\mathbf{X}$ is the design matrix we wrote down earlier."
      ]
    },
    {
      "cell_type": "markdown",
      "metadata": {
        "id": "n6s9aeppPSjQ"
      },
      "source": [
        "---\n",
        "**CHECKPOINT!**: *What just happened?*\n",
        "- Here's a video showing what each component represents: [Simple Linear Regression Formula, Visualized | Ch.1](https://www.youtube.com/watch?v=3g-e2aiRfbU)\n",
        "---"
      ]
    },
    {
      "cell_type": "markdown",
      "metadata": {
        "id": "GvO9zsWaLWPg"
      },
      "source": [
        "What we want is to find an estimate<a name=\"cite_ref-1\">[<sup>\\[1\\]</sup>](#cite_note-1)</a> $\\hat{\\beta}$ of $\\vec{\\beta}$ that in some sense minimises the (squared) magnitude of the error vector $\\vec{\\epsilon}$.\n",
        "\n",
        "It can be shown then that the line that 'best fits' the observed data is given by the solution to the so-called **normal equations**:\n",
        "\n",
        "$$\n",
        "\\hat{\\beta} = (\\mathbf{X}^T \\mathbf{X})^{-1}  \\mathbf{X}^T \\vec{y}\n",
        "$$"
      ]
    },
    {
      "cell_type": "markdown",
      "metadata": {
        "id": "Wl2qInV_FivU"
      },
      "source": [
        "EX: _(Grades vs study hours)_ We have:\n",
        "\n",
        "$$\n",
        "\\begin{bmatrix}\n",
        "\\beta_0 \\\\\n",
        "\\beta_1\n",
        "\\end{bmatrix} =\n",
        "\\left(\\begin{bmatrix}\n",
        "1 & 1 & 1 & 1 & 1 \\\\\n",
        "1.0 & 2.0 & 3.0 & 1.5 & 0.5\n",
        "\\end{bmatrix}\n",
        "\\begin{bmatrix}\n",
        "1 & 1.0 \\\\\n",
        "1 & 2.0 \\\\\n",
        "1 & 3.0 \\\\\n",
        "1 & 1.5 \\\\\n",
        "1 & 0.5 \\\\\n",
        "\\end{bmatrix}\n",
        "\\right)^{-1}\n",
        "\\begin{bmatrix}\n",
        "1 & 1 & 1 & 1 & 1 \\\\\n",
        "1.0 & 2.0 & 3.0 & 1.5 & 0.5\n",
        "\\end{bmatrix}\n",
        "\\begin{bmatrix}\n",
        "89 \\\\\n",
        "82 \\\\\n",
        "91 \\\\\n",
        "94 \\\\\n",
        "79\n",
        "\\end{bmatrix}\n",
        "$$\n",
        "\n",
        "which means:\n",
        "\n",
        "$$\n",
        "\\hat{\\beta} \\approx\n",
        "\\begin{bmatrix}\n",
        "82.4 \\\\\n",
        "2.8\n",
        "\\end{bmatrix}\n",
        "$$"
      ]
    },
    {
      "cell_type": "markdown",
      "metadata": {
        "id": "XUvbI6xILf1O"
      },
      "source": [
        "Notice that, if we had not augmented $\\mathbf{X}$ with the $n \\times 1$ column vector of ones, we could not have gotten the y-intercept $\\beta_0$ to play a role in the regression.\n",
        "\n",
        "Plotting this, we get:\n",
        "\n",
        "![image](https://i.ibb.co/vHwNJTR/image.png)\n",
        "\n",
        "---\n",
        "<a name=\"cite_note-1\"></a> [<sup>\\[1\\]</sup>](#cite_ref-1): This is also a vector."
      ]
    },
    {
      "cell_type": "markdown",
      "metadata": {
        "id": "80DBN1BZSEOC"
      },
      "source": [
        "**Synthesis**\n",
        "- We have an existing dataset and we start with an initial guess for $\\vec{\\beta} =\\begin{bmatrix}\\beta_0 \\\\ \\beta_1\\end{bmatrix}$.\n",
        "    - Based on our setup above, this corresponds to a guess for the slope and a point to draw the line that fits our dataset.\n",
        "- We can set up the \"best\" parameters which fit the trend of our dataset using the formula above for $\\hat{\\beta}$. This is derived from the residual which we will discuss next.\n",
        "---"
      ]
    },
    {
      "cell_type": "markdown",
      "metadata": {
        "id": "OVNqDRrSJdkC"
      },
      "source": [
        "### Residual"
      ]
    },
    {
      "cell_type": "markdown",
      "metadata": {
        "id": "bja4k9flJnEm"
      },
      "source": [
        "The **residual** $r_i$ is the difference between an _observed_ value $x_i$ and its _estimated_ value $\\hat{x}_i$. For example, in our grades vs hours of study data, the residual of the ith point is its vertical distance from the regression line (so the point $(x_i, y_i) = (\\text{3 hours}, \\text{grade of 91})$ would have a residual $r \\approx 0$, since it's so close to the line)."
      ]
    },
    {
      "cell_type": "markdown",
      "metadata": {
        "id": "jDtF6iZhJgoc"
      },
      "source": [
        "### Loss function"
      ]
    },
    {
      "cell_type": "markdown",
      "metadata": {
        "id": "0Q-QKVg9JvAF"
      },
      "source": [
        "Broadly speaking, a **loss function** $L$ is a function of one or several variables that gives you a _real number_. That number tells you how far away you are from minimising some quantity, e.g. utility, energy use, etc. In (frequentist) statistics, loss functions are interpreted as a measure of how far your estimates are from their 'true' values.\n",
        "\n",
        "Two common loss functions in statistics are the **squared loss** $L(a) = a^2$ and the **absolute loss** $L(a) = |a|$."
      ]
    },
    {
      "cell_type": "markdown",
      "metadata": {
        "id": "uRoHjO5OVL3t"
      },
      "source": [
        "##### **Linear Regression**\n",
        "In linear regression, the loss function used is usually the **residual square sum** $L = \\sum{r_i^2} = \\sum{(y_i - (\\beta_0 + \\beta_1 x_i))^2}$ taken over all the pairs of observations $(x_i, y_i)$.\n"
      ]
    },
    {
      "cell_type": "markdown",
      "metadata": {
        "id": "l-Z2dllzVMtZ"
      },
      "source": [
        "##### **Logistic Regression**\n",
        "In logistic regression where you are trying to predict a probability $0 \\leq p_i \\leq 1$ for the observation $y_i$, the loss function is called the **log-loss** $L = \\sum{(-y_i\\ln{p_i}-(1 - y_i)\\ln{(1-p_i))}}$.\n",
        "\n",
        "In particular, $p_i$ is assumed to have the form of a **sigmoid function**:\n",
        "\n",
        "$$\n",
        "p(x_i) = \\frac{1}{1 - e^{z_i}}\n",
        "$$\n",
        "\n",
        "where $z_i = \\beta_0 + \\beta_1 x_i$. Note that if we're trying to model a scenario with more than one independent variable e.g. $\\vec{x}$ and $\\vec{w}$, we can just tack on a term to $z_i$ for each additional variable so that e.g. $z_i = \\beta_0 + \\beta_1 x_i + \\beta_2 w_i$ in this two-variable case."
      ]
    },
    {
      "cell_type": "markdown",
      "metadata": {
        "id": "Dq03C-fFRmlE"
      },
      "source": [
        "---\n",
        "##### **CHECKPOINT!**\n",
        "- Here's how residuals play into the mix + a lookahead on the loss function: [Introduction to residuals and least squares *regression* - Khan Academy](https://www.youtube.com/watch?v=yMgFHbjbAW8&ab_channel=KhanAcademy)"
      ]
    },
    {
      "cell_type": "markdown",
      "metadata": {
        "id": "jBTtaux7VbZQ"
      },
      "source": [
        "##### *Help! I need a longform view of the lesson.*\n",
        "- [Learn Statistical Regression in 40 mins!](https://www.youtube.com/watch?v=eYTumjgE2IY)\n",
        "\n",
        "##### **[bonus!]** Given linear regression, how did we end up with the equation for $\\hat\\beta$?\n",
        "- We start with our loss function as the square of the residual and work backwards. [This article](https://en.wikipedia.org/wiki/Proofs_involving_ordinary_least_squares#Derivation_directly_in_terms_of_matrices) outlines the step-by-step equations (needs background on differentiation).\n",
        "---"
      ]
    },
    {
      "cell_type": "markdown",
      "metadata": {
        "id": "Rh2i9mNXJyxE"
      },
      "source": [
        "## Problems"
      ]
    },
    {
      "cell_type": "markdown",
      "metadata": {
        "id": "DqNhFsQdV9Cs"
      },
      "source": [
        "#### Setup"
      ]
    },
    {
      "cell_type": "code",
      "execution_count": 2,
      "metadata": {
        "id": "p6v84EvCYSjP"
      },
      "outputs": [],
      "source": [
        "%mkdir data/"
      ]
    },
    {
      "cell_type": "code",
      "execution_count": 3,
      "metadata": {
        "colab": {
          "base_uri": "https://localhost:8080/"
        },
        "id": "a_hLp8A6YVJb",
        "outputId": "457c596d-7713-4417-8cad-d5601d9ebd70"
      },
      "outputs": [
        {
          "output_type": "stream",
          "name": "stdout",
          "text": [
            "Requirement already satisfied: gdown in /usr/local/lib/python3.10/dist-packages (4.7.3)\n",
            "Collecting gdown\n",
            "  Downloading gdown-5.1.0-py3-none-any.whl (17 kB)\n",
            "Requirement already satisfied: beautifulsoup4 in /usr/local/lib/python3.10/dist-packages (from gdown) (4.12.3)\n",
            "Requirement already satisfied: filelock in /usr/local/lib/python3.10/dist-packages (from gdown) (3.13.1)\n",
            "Requirement already satisfied: requests[socks] in /usr/local/lib/python3.10/dist-packages (from gdown) (2.31.0)\n",
            "Requirement already satisfied: tqdm in /usr/local/lib/python3.10/dist-packages (from gdown) (4.66.2)\n",
            "Requirement already satisfied: soupsieve>1.2 in /usr/local/lib/python3.10/dist-packages (from beautifulsoup4->gdown) (2.5)\n",
            "Requirement already satisfied: charset-normalizer<4,>=2 in /usr/local/lib/python3.10/dist-packages (from requests[socks]->gdown) (3.3.2)\n",
            "Requirement already satisfied: idna<4,>=2.5 in /usr/local/lib/python3.10/dist-packages (from requests[socks]->gdown) (3.6)\n",
            "Requirement already satisfied: urllib3<3,>=1.21.1 in /usr/local/lib/python3.10/dist-packages (from requests[socks]->gdown) (2.0.7)\n",
            "Requirement already satisfied: certifi>=2017.4.17 in /usr/local/lib/python3.10/dist-packages (from requests[socks]->gdown) (2024.2.2)\n",
            "Requirement already satisfied: PySocks!=1.5.7,>=1.5.6 in /usr/local/lib/python3.10/dist-packages (from requests[socks]->gdown) (1.7.1)\n",
            "Installing collected packages: gdown\n",
            "  Attempting uninstall: gdown\n",
            "    Found existing installation: gdown 4.7.3\n",
            "    Uninstalling gdown-4.7.3:\n",
            "      Successfully uninstalled gdown-4.7.3\n",
            "Successfully installed gdown-5.1.0\n",
            "/usr/local/lib/python3.10/dist-packages/gdown/__main__.py:132: FutureWarning: Option `--id` was deprecated in version 4.3.1 and will be removed in 5.0. You don't need to pass it anymore to use a file ID.\n",
            "  warnings.warn(\n",
            "Downloading...\n",
            "From: https://drive.google.com/uc?id=1TQz7x_ElwZJ3sq5i4uLZvyh5ytr9O7GF\n",
            "To: /content/data/linear.txt\n",
            "100% 1.36k/1.36k [00:00<00:00, 5.03MB/s]\n",
            "/usr/local/lib/python3.10/dist-packages/gdown/__main__.py:132: FutureWarning: Option `--id` was deprecated in version 4.3.1 and will be removed in 5.0. You don't need to pass it anymore to use a file ID.\n",
            "  warnings.warn(\n",
            "Downloading...\n",
            "From: https://drive.google.com/uc?id=16I-h6oN6BE4a5G4ZtYPDxr6U9t18wXNc\n",
            "To: /content/data/log.txt\n",
            "100% 3.77k/3.77k [00:00<00:00, 13.0MB/s]\n"
          ]
        }
      ],
      "source": [
        "!pip install --upgrade gdown\n",
        "!cd data; gdown --id '1TQz7x_ElwZJ3sq5i4uLZvyh5ytr9O7GF'; gdown --id '16I-h6oN6BE4a5G4ZtYPDxr6U9t18wXNc'; cd .."
      ]
    },
    {
      "cell_type": "markdown",
      "metadata": {
        "id": "iQkwUQFNYbXS"
      },
      "source": [
        "#### Libraries you'd need"
      ]
    },
    {
      "cell_type": "code",
      "execution_count": 4,
      "metadata": {
        "id": "Uyz9ofnMV8nI"
      },
      "outputs": [],
      "source": [
        "import numpy as np\n",
        "import plotly.express as px\n",
        "import plotly.graph_objects as go"
      ]
    },
    {
      "cell_type": "markdown",
      "metadata": {
        "id": "5ShaDrqiJ1a7"
      },
      "source": [
        "### Problem 1\n",
        "\n",
        "Consider the following data on the height and weight of children:\n",
        "\n",
        "| # | 1 | 2 | 3 | 4 | 5 |\n",
        "| --- | --- | --- | --- | --- | --- |\n",
        "| Weight (y, kg) | 64 | 53 | 67 | 58 | 51 |\n",
        "| Height (x, in) | 57 | 50 | 61 | 52 | 45 |"
      ]
    },
    {
      "cell_type": "markdown",
      "metadata": {
        "id": "h3vj-QcjLwUD"
      },
      "source": [
        "1. Write down the correct design matrix $\\mathbf{X}$ given that we want to perform linear regression on this."
      ]
    },
    {
      "cell_type": "code",
      "execution_count": 75,
      "metadata": {
        "colab": {
          "base_uri": "https://localhost:8080/"
        },
        "deletable": false,
        "id": "I2b99ODJMhru",
        "nbgrader": {
          "cell_type": "code",
          "checksum": "9dd12cfe606ff72f174c6cc0087be728",
          "grade": false,
          "grade_id": "cell-472b83837401f3e9",
          "locked": false,
          "schema_version": 3,
          "solution": true,
          "task": false
        },
        "outputId": "866ba290-99e6-4aa8-9c5e-613f463f9016"
      },
      "outputs": [
        {
          "output_type": "stream",
          "name": "stdout",
          "text": [
            "[[ 1. 57.]\n",
            " [ 1. 50.]\n",
            " [ 1. 61.]\n",
            " [ 1. 52.]\n",
            " [ 1. 45.]]\n",
            "(5, 2)\n"
          ]
        }
      ],
      "source": [
        "X = np.array([57, 50, 61, 52, 45])\n",
        "\n",
        "x = np.vstack([np.ones(5), X])\n",
        "x = x.T\n",
        "print(x)\n",
        "print(x.shape)"
      ]
    },
    {
      "cell_type": "code",
      "execution_count": 5,
      "metadata": {
        "deletable": false,
        "editable": false,
        "nbgrader": {
          "cell_type": "code",
          "checksum": "9aa2fc105294d33f63c2d211889d04bd",
          "grade": true,
          "grade_id": "cell-4b4ae93b1d74aa62",
          "locked": true,
          "points": 1,
          "schema_version": 3,
          "solution": false,
          "task": false
        },
        "id": "4EwsyC_Blbw8"
      },
      "outputs": [],
      "source": [
        "# DO NOT MODIFY - HIDDEN TESTS HERE"
      ]
    },
    {
      "cell_type": "markdown",
      "metadata": {
        "id": "nPiIZA0rLy5D"
      },
      "source": [
        "2. What is $\\mathbf{X}^T$? What about $(\\mathbf{X}^T \\mathbf{X})^{-1}$?"
      ]
    },
    {
      "cell_type": "code",
      "execution_count": 76,
      "metadata": {
        "colab": {
          "base_uri": "https://localhost:8080/"
        },
        "deletable": false,
        "id": "OYlHlujxMiDP",
        "nbgrader": {
          "cell_type": "code",
          "checksum": "80b5c9ad0bf8744a318ea261fc49e6e2",
          "grade": false,
          "grade_id": "cell-be357f03a7d6ad3d",
          "locked": false,
          "schema_version": 3,
          "solution": true,
          "task": false
        },
        "outputId": "fda40829-ec99-4958-a393-50930f90fc12"
      },
      "outputs": [
        {
          "output_type": "stream",
          "name": "stdout",
          "text": [
            "[[ 1.  1.  1.  1.  1.]\n",
            " [57. 50. 61. 52. 45.]]\n",
            "(2, 5)\n",
            "[[ 1.84402597e+01 -3.44155844e-01]\n",
            " [-3.44155844e-01  6.49350649e-03]]\n",
            "(2, 2)\n"
          ]
        }
      ],
      "source": [
        "# Compute for the following values by hand and express as numpy matrices\n",
        "answer1 = x.T\n",
        "answer2 = np.linalg.inv(x.T @ x)\n",
        "# YOUR CODE HERE\n",
        "# raise NotImplementedError()\n",
        "\n",
        "print(answer1)\n",
        "print(answer1.shape)\n",
        "print(answer2)\n",
        "print(answer2.shape)"
      ]
    },
    {
      "cell_type": "code",
      "execution_count": null,
      "metadata": {
        "deletable": false,
        "editable": false,
        "nbgrader": {
          "cell_type": "code",
          "checksum": "a7ec5fe4dcf18890026825f9d9e497a3",
          "grade": true,
          "grade_id": "cell-fa2f78eef1f98962",
          "locked": true,
          "points": 1,
          "schema_version": 3,
          "solution": false,
          "task": false
        },
        "id": "Yh452ZcQlbw9"
      },
      "outputs": [],
      "source": [
        "# DO NOT MODIFY - HIDDEN TESTS HERE"
      ]
    },
    {
      "cell_type": "markdown",
      "metadata": {
        "id": "cMg8jWauL1vF"
      },
      "source": [
        "3. Obtain the parameter estimate $\\hat{\\beta}$."
      ]
    },
    {
      "cell_type": "code",
      "execution_count": 81,
      "metadata": {
        "colab": {
          "base_uri": "https://localhost:8080/"
        },
        "deletable": false,
        "id": "oBn66yQpMiaC",
        "nbgrader": {
          "cell_type": "code",
          "checksum": "f27f5bbb3756d17f8a18c7412927a6c9",
          "grade": false,
          "grade_id": "cell-7ad055e4cc42f886",
          "locked": false,
          "schema_version": 3,
          "solution": true,
          "task": false
        },
        "outputId": "5b0d83f9-8ac5-42d4-be38-e15274178622"
      },
      "outputs": [
        {
          "output_type": "stream",
          "name": "stdout",
          "text": [
            "[[64]\n",
            " [53]\n",
            " [67]\n",
            " [58]\n",
            " [51]]\n",
            "(5, 1)\n",
            "(5, 2)\n",
            "Beta\n",
            "[[1.12597403]\n",
            " [1.08441558]]\n",
            "(2, 1)\n"
          ]
        }
      ],
      "source": [
        "# Again, do compute by hand\n",
        "# beta = None\n",
        "# YOUR CODE HERE\n",
        "# raise NotImplementedError()\n",
        "y = np.array([64, 53,\t67,\t58,\t51]).reshape(5, 1)\n",
        "print(y)\n",
        "print(y.shape)\n",
        "print(x.shape)\n",
        "beta = answer2 @ answer1 @ y\n",
        "print('Beta')\n",
        "print(beta)\n",
        "print(beta.shape)"
      ]
    },
    {
      "cell_type": "code",
      "execution_count": null,
      "metadata": {
        "deletable": false,
        "editable": false,
        "nbgrader": {
          "cell_type": "code",
          "checksum": "5ebd95562327170d180523712a6edde7",
          "grade": true,
          "grade_id": "cell-77d64cbeda22bd8a",
          "locked": true,
          "points": 1,
          "schema_version": 3,
          "solution": false,
          "task": false
        },
        "id": "G2bKwAR4lbw9"
      },
      "outputs": [],
      "source": [
        "# DO NOT MODIFY - HIDDEN TESTS HERE"
      ]
    },
    {
      "cell_type": "markdown",
      "metadata": {
        "id": "yUdPz3l_J2xT"
      },
      "source": [
        "### Problem 2\n",
        "\n",
        "In this exercise, you will need the data contained in `data/linear.txt` (taken from Andrew Ng's _Machine Learning Specialization_ course).\n",
        "\n",
        "You are tasked to predict the weekly energy usage (in KWh) of rural households in the Philippines as a function of the number of people in them using _linear_ regression."
      ]
    },
    {
      "cell_type": "markdown",
      "metadata": {
        "id": "MejN9fwkMJ1G"
      },
      "source": [
        "#### Prereq: Load the dataset"
      ]
    },
    {
      "cell_type": "code",
      "execution_count": 90,
      "metadata": {
        "colab": {
          "base_uri": "https://localhost:8080/"
        },
        "id": "M7RG7w28MJXI",
        "outputId": "d857ba0e-3d87-4009-c12f-3feca023f406"
      },
      "outputs": [
        {
          "output_type": "execute_result",
          "data": {
            "text/plain": [
              "matrix([[ 6.1101 , 17.592  ],\n",
              "        [ 5.5277 ,  9.1302 ],\n",
              "        [ 8.5186 , 13.662  ],\n",
              "        [ 7.0032 , 11.854  ],\n",
              "        [ 5.8598 ,  6.8233 ],\n",
              "        [ 8.3829 , 11.886  ],\n",
              "        [ 7.4764 ,  4.3483 ],\n",
              "        [ 8.5781 , 12.     ],\n",
              "        [ 6.4862 ,  6.5987 ],\n",
              "        [ 5.0546 ,  3.8166 ],\n",
              "        [ 5.7107 ,  3.2522 ],\n",
              "        [14.164  , 15.505  ],\n",
              "        [ 5.734  ,  3.1551 ],\n",
              "        [ 8.4084 ,  7.2258 ],\n",
              "        [ 5.6407 ,  0.71618],\n",
              "        [ 5.3794 ,  3.5129 ],\n",
              "        [ 6.3654 ,  5.3048 ],\n",
              "        [ 5.1301 ,  0.56077],\n",
              "        [ 6.4296 ,  3.6518 ],\n",
              "        [ 7.0708 ,  5.3893 ],\n",
              "        [ 6.1891 ,  3.1386 ],\n",
              "        [20.27   , 21.767  ],\n",
              "        [ 5.4901 ,  4.263  ],\n",
              "        [ 6.3261 ,  5.1875 ],\n",
              "        [ 5.5649 ,  3.0825 ],\n",
              "        [18.945  , 22.638  ],\n",
              "        [12.828  , 13.501  ],\n",
              "        [10.957  ,  7.0467 ],\n",
              "        [13.176  , 14.692  ],\n",
              "        [22.203  , 24.147  ],\n",
              "        [ 5.2524 , -1.22   ],\n",
              "        [ 6.5894 ,  5.9966 ],\n",
              "        [ 9.2482 , 12.134  ],\n",
              "        [ 5.8918 ,  1.8495 ],\n",
              "        [ 8.2111 ,  6.5426 ],\n",
              "        [ 7.9334 ,  4.5623 ],\n",
              "        [ 8.0959 ,  4.1164 ],\n",
              "        [ 5.6063 ,  3.3928 ],\n",
              "        [12.836  , 10.117  ],\n",
              "        [ 6.3534 ,  5.4974 ],\n",
              "        [ 5.4069 ,  0.55657],\n",
              "        [ 6.8825 ,  3.9115 ],\n",
              "        [11.708  ,  5.3854 ],\n",
              "        [ 5.7737 ,  2.4406 ],\n",
              "        [ 7.8247 ,  6.7318 ],\n",
              "        [ 7.0931 ,  1.0463 ],\n",
              "        [ 5.0702 ,  5.1337 ],\n",
              "        [ 5.8014 ,  1.844  ],\n",
              "        [11.7    ,  8.0043 ],\n",
              "        [ 5.5416 ,  1.0179 ],\n",
              "        [ 7.5402 ,  6.7504 ],\n",
              "        [ 5.3077 ,  1.8396 ],\n",
              "        [ 7.4239 ,  4.2885 ],\n",
              "        [ 7.6031 ,  4.9981 ],\n",
              "        [ 6.3328 ,  1.4233 ],\n",
              "        [ 6.3589 , -1.4211 ],\n",
              "        [ 6.2742 ,  2.4756 ],\n",
              "        [ 5.6397 ,  4.6042 ],\n",
              "        [ 9.3102 ,  3.9624 ],\n",
              "        [ 9.4536 ,  5.4141 ],\n",
              "        [ 8.8254 ,  5.1694 ],\n",
              "        [ 5.1793 , -0.74279],\n",
              "        [21.279  , 17.929  ],\n",
              "        [14.908  , 12.054  ],\n",
              "        [18.959  , 17.054  ],\n",
              "        [ 7.2182 ,  4.8852 ],\n",
              "        [ 8.2951 ,  5.7442 ],\n",
              "        [10.236  ,  7.7754 ],\n",
              "        [ 5.4994 ,  1.0173 ],\n",
              "        [20.341  , 20.992  ],\n",
              "        [10.136  ,  6.6799 ],\n",
              "        [ 7.3345 ,  4.0259 ],\n",
              "        [ 6.0062 ,  1.2784 ],\n",
              "        [ 7.2259 ,  3.3411 ],\n",
              "        [ 5.0269 , -2.6807 ],\n",
              "        [ 6.5479 ,  0.29678],\n",
              "        [ 7.5386 ,  3.8845 ],\n",
              "        [ 5.0365 ,  5.7014 ],\n",
              "        [10.274  ,  6.7526 ],\n",
              "        [ 5.1077 ,  2.0576 ],\n",
              "        [ 5.7292 ,  0.47953],\n",
              "        [ 5.1884 ,  0.20421],\n",
              "        [ 6.3557 ,  0.67861],\n",
              "        [ 9.7687 ,  7.5435 ],\n",
              "        [ 6.5159 ,  5.3436 ],\n",
              "        [ 8.5172 ,  4.2415 ],\n",
              "        [ 9.1802 ,  6.7981 ],\n",
              "        [ 6.002  ,  0.92695],\n",
              "        [ 5.5204 ,  0.152  ],\n",
              "        [ 5.0594 ,  2.8214 ],\n",
              "        [ 5.7077 ,  1.8451 ],\n",
              "        [ 7.6366 ,  4.2959 ],\n",
              "        [ 5.8707 ,  7.2029 ],\n",
              "        [ 5.3054 ,  1.9869 ],\n",
              "        [ 8.2934 ,  0.14454],\n",
              "        [13.394  ,  9.0551 ],\n",
              "        [ 5.4369 ,  0.61705]])"
            ]
          },
          "metadata": {},
          "execution_count": 90
        }
      ],
      "source": [
        "matrix = np.matrix([tuple(map(float, x.strip().split(','))) for x in open(\"data/linear.txt\", 'r').readlines()])\n",
        "matrix"
      ]
    },
    {
      "cell_type": "markdown",
      "metadata": {
        "id": "Qd5i_7BYMThm"
      },
      "source": [
        "#### Questions"
      ]
    },
    {
      "cell_type": "markdown",
      "metadata": {
        "id": "yXsqoMcWML7h"
      },
      "source": [
        "1. First, construct the design matrix $\\mathbf{X}$ and the array $\\vec{y}$. From them, make a properly labeled scatterplot."
      ]
    },
    {
      "cell_type": "code",
      "execution_count": 92,
      "metadata": {
        "colab": {
          "base_uri": "https://localhost:8080/"
        },
        "deletable": false,
        "id": "UKJgOQ9LMevD",
        "nbgrader": {
          "cell_type": "code",
          "checksum": "d9564f769ca0cd31242621b3088e5af4",
          "grade": false,
          "grade_id": "cell-9bddbefd3fc8caa1",
          "locked": false,
          "schema_version": 3,
          "solution": true,
          "task": false
        },
        "outputId": "959f09d2-b30f-43d1-e24c-d7082a20cd3a"
      },
      "outputs": [
        {
          "output_type": "stream",
          "name": "stdout",
          "text": [
            "(97, 2)\n",
            "(97, 1)\n"
          ]
        }
      ],
      "source": [
        "arr = np.array(matrix)[:, 1]\n",
        "X = arr.squeeze()\n",
        "x = np.vstack([np.ones(97), X]).T\n",
        "\n",
        "y = np.array(matrix)[:, 0].reshape(1, 97).T\n",
        "\n",
        "print(x.shape)\n",
        "print(y.shape)"
      ]
    },
    {
      "cell_type": "code",
      "source": [],
      "metadata": {
        "id": "x7zDE5IF_uzh"
      },
      "execution_count": 86,
      "outputs": []
    },
    {
      "cell_type": "code",
      "source": [
        "trace = go.Scatter(\n",
        "    x=x[:, 1].squeeze(),\n",
        "    y=y.squeeze(),\n",
        "    mode='markers',  # Scatter mode for a scatter plot\n",
        "    marker=dict(\n",
        "        color='blue',  # Marker color\n",
        "        size=10,       # Marker size\n",
        "        symbol='circle',  # Marker symbol\n",
        "        opacity=0.8    # Marker opacity\n",
        "    )\n",
        ")\n",
        "\n",
        "# Define layout\n",
        "layout = go.Layout(\n",
        "    title='Scatter Plot Example',\n",
        "    xaxis=dict(title='Number of People'),\n",
        "    yaxis=dict(title='Weekly Energy Usage (kWH)')\n",
        ")\n",
        "\n",
        "# Create figure\n",
        "fig = go.Figure(data=[trace], layout=layout)\n",
        "fig.show()"
      ],
      "metadata": {
        "colab": {
          "base_uri": "https://localhost:8080/",
          "height": 542
        },
        "id": "B8qmMi8k7niR",
        "outputId": "a5d8e652-6b2a-41ce-f221-c7287c8e73e1"
      },
      "execution_count": 93,
      "outputs": [
        {
          "output_type": "display_data",
          "data": {
            "text/html": [
              "<html>\n",
              "<head><meta charset=\"utf-8\" /></head>\n",
              "<body>\n",
              "    <div>            <script src=\"https://cdnjs.cloudflare.com/ajax/libs/mathjax/2.7.5/MathJax.js?config=TeX-AMS-MML_SVG\"></script><script type=\"text/javascript\">if (window.MathJax && window.MathJax.Hub && window.MathJax.Hub.Config) {window.MathJax.Hub.Config({SVG: {font: \"STIX-Web\"}});}</script>                <script type=\"text/javascript\">window.PlotlyConfig = {MathJaxConfig: 'local'};</script>\n",
              "        <script charset=\"utf-8\" src=\"https://cdn.plot.ly/plotly-2.24.1.min.js\"></script>                <div id=\"8ac02e72-b089-4ccc-9fe6-af779c1e5b07\" class=\"plotly-graph-div\" style=\"height:525px; width:100%;\"></div>            <script type=\"text/javascript\">                                    window.PLOTLYENV=window.PLOTLYENV || {};                                    if (document.getElementById(\"8ac02e72-b089-4ccc-9fe6-af779c1e5b07\")) {                    Plotly.newPlot(                        \"8ac02e72-b089-4ccc-9fe6-af779c1e5b07\",                        [{\"marker\":{\"color\":\"blue\",\"opacity\":0.8,\"size\":10,\"symbol\":\"circle\"},\"mode\":\"markers\",\"x\":[17.592,9.1302,13.662,11.854,6.8233,11.886,4.3483,12.0,6.5987,3.8166,3.2522,15.505,3.1551,7.2258,0.71618,3.5129,5.3048,0.56077,3.6518,5.3893,3.1386,21.767,4.263,5.1875,3.0825,22.638,13.501,7.0467,14.692,24.147,-1.22,5.9966,12.134,1.8495,6.5426,4.5623,4.1164,3.3928,10.117,5.4974,0.55657,3.9115,5.3854,2.4406,6.7318,1.0463,5.1337,1.844,8.0043,1.0179,6.7504,1.8396,4.2885,4.9981,1.4233,-1.4211,2.4756,4.6042,3.9624,5.4141,5.1694,-0.74279,17.929,12.054,17.054,4.8852,5.7442,7.7754,1.0173,20.992,6.6799,4.0259,1.2784,3.3411,-2.6807,0.29678,3.8845,5.7014,6.7526,2.0576,0.47953,0.20421,0.67861,7.5435,5.3436,4.2415,6.7981,0.92695,0.152,2.8214,1.8451,4.2959,7.2029,1.9869,0.14454,9.0551,0.61705],\"y\":[6.1101,5.5277,8.5186,7.0032,5.8598,8.3829,7.4764,8.5781,6.4862,5.0546,5.7107,14.164,5.734,8.4084,5.6407,5.3794,6.3654,5.1301,6.4296,7.0708,6.1891,20.27,5.4901,6.3261,5.5649,18.945,12.828,10.957,13.176,22.203,5.2524,6.5894,9.2482,5.8918,8.2111,7.9334,8.0959,5.6063,12.836,6.3534,5.4069,6.8825,11.708,5.7737,7.8247,7.0931,5.0702,5.8014,11.7,5.5416,7.5402,5.3077,7.4239,7.6031,6.3328,6.3589,6.2742,5.6397,9.3102,9.4536,8.8254,5.1793,21.279,14.908,18.959,7.2182,8.2951,10.236,5.4994,20.341,10.136,7.3345,6.0062,7.2259,5.0269,6.5479,7.5386,5.0365,10.274,5.1077,5.7292,5.1884,6.3557,9.7687,6.5159,8.5172,9.1802,6.002,5.5204,5.0594,5.7077,7.6366,5.8707,5.3054,8.2934,13.394,5.4369],\"type\":\"scatter\"}],                        {\"title\":{\"text\":\"Scatter Plot Example\"},\"xaxis\":{\"title\":{\"text\":\"Number of People\"}},\"yaxis\":{\"title\":{\"text\":\"Weekly Energy Usage (kWH)\"}},\"template\":{\"data\":{\"histogram2dcontour\":[{\"type\":\"histogram2dcontour\",\"colorbar\":{\"outlinewidth\":0,\"ticks\":\"\"},\"colorscale\":[[0.0,\"#0d0887\"],[0.1111111111111111,\"#46039f\"],[0.2222222222222222,\"#7201a8\"],[0.3333333333333333,\"#9c179e\"],[0.4444444444444444,\"#bd3786\"],[0.5555555555555556,\"#d8576b\"],[0.6666666666666666,\"#ed7953\"],[0.7777777777777778,\"#fb9f3a\"],[0.8888888888888888,\"#fdca26\"],[1.0,\"#f0f921\"]]}],\"choropleth\":[{\"type\":\"choropleth\",\"colorbar\":{\"outlinewidth\":0,\"ticks\":\"\"}}],\"histogram2d\":[{\"type\":\"histogram2d\",\"colorbar\":{\"outlinewidth\":0,\"ticks\":\"\"},\"colorscale\":[[0.0,\"#0d0887\"],[0.1111111111111111,\"#46039f\"],[0.2222222222222222,\"#7201a8\"],[0.3333333333333333,\"#9c179e\"],[0.4444444444444444,\"#bd3786\"],[0.5555555555555556,\"#d8576b\"],[0.6666666666666666,\"#ed7953\"],[0.7777777777777778,\"#fb9f3a\"],[0.8888888888888888,\"#fdca26\"],[1.0,\"#f0f921\"]]}],\"heatmap\":[{\"type\":\"heatmap\",\"colorbar\":{\"outlinewidth\":0,\"ticks\":\"\"},\"colorscale\":[[0.0,\"#0d0887\"],[0.1111111111111111,\"#46039f\"],[0.2222222222222222,\"#7201a8\"],[0.3333333333333333,\"#9c179e\"],[0.4444444444444444,\"#bd3786\"],[0.5555555555555556,\"#d8576b\"],[0.6666666666666666,\"#ed7953\"],[0.7777777777777778,\"#fb9f3a\"],[0.8888888888888888,\"#fdca26\"],[1.0,\"#f0f921\"]]}],\"heatmapgl\":[{\"type\":\"heatmapgl\",\"colorbar\":{\"outlinewidth\":0,\"ticks\":\"\"},\"colorscale\":[[0.0,\"#0d0887\"],[0.1111111111111111,\"#46039f\"],[0.2222222222222222,\"#7201a8\"],[0.3333333333333333,\"#9c179e\"],[0.4444444444444444,\"#bd3786\"],[0.5555555555555556,\"#d8576b\"],[0.6666666666666666,\"#ed7953\"],[0.7777777777777778,\"#fb9f3a\"],[0.8888888888888888,\"#fdca26\"],[1.0,\"#f0f921\"]]}],\"contourcarpet\":[{\"type\":\"contourcarpet\",\"colorbar\":{\"outlinewidth\":0,\"ticks\":\"\"}}],\"contour\":[{\"type\":\"contour\",\"colorbar\":{\"outlinewidth\":0,\"ticks\":\"\"},\"colorscale\":[[0.0,\"#0d0887\"],[0.1111111111111111,\"#46039f\"],[0.2222222222222222,\"#7201a8\"],[0.3333333333333333,\"#9c179e\"],[0.4444444444444444,\"#bd3786\"],[0.5555555555555556,\"#d8576b\"],[0.6666666666666666,\"#ed7953\"],[0.7777777777777778,\"#fb9f3a\"],[0.8888888888888888,\"#fdca26\"],[1.0,\"#f0f921\"]]}],\"surface\":[{\"type\":\"surface\",\"colorbar\":{\"outlinewidth\":0,\"ticks\":\"\"},\"colorscale\":[[0.0,\"#0d0887\"],[0.1111111111111111,\"#46039f\"],[0.2222222222222222,\"#7201a8\"],[0.3333333333333333,\"#9c179e\"],[0.4444444444444444,\"#bd3786\"],[0.5555555555555556,\"#d8576b\"],[0.6666666666666666,\"#ed7953\"],[0.7777777777777778,\"#fb9f3a\"],[0.8888888888888888,\"#fdca26\"],[1.0,\"#f0f921\"]]}],\"mesh3d\":[{\"type\":\"mesh3d\",\"colorbar\":{\"outlinewidth\":0,\"ticks\":\"\"}}],\"scatter\":[{\"fillpattern\":{\"fillmode\":\"overlay\",\"size\":10,\"solidity\":0.2},\"type\":\"scatter\"}],\"parcoords\":[{\"type\":\"parcoords\",\"line\":{\"colorbar\":{\"outlinewidth\":0,\"ticks\":\"\"}}}],\"scatterpolargl\":[{\"type\":\"scatterpolargl\",\"marker\":{\"colorbar\":{\"outlinewidth\":0,\"ticks\":\"\"}}}],\"bar\":[{\"error_x\":{\"color\":\"#2a3f5f\"},\"error_y\":{\"color\":\"#2a3f5f\"},\"marker\":{\"line\":{\"color\":\"#E5ECF6\",\"width\":0.5},\"pattern\":{\"fillmode\":\"overlay\",\"size\":10,\"solidity\":0.2}},\"type\":\"bar\"}],\"scattergeo\":[{\"type\":\"scattergeo\",\"marker\":{\"colorbar\":{\"outlinewidth\":0,\"ticks\":\"\"}}}],\"scatterpolar\":[{\"type\":\"scatterpolar\",\"marker\":{\"colorbar\":{\"outlinewidth\":0,\"ticks\":\"\"}}}],\"histogram\":[{\"marker\":{\"pattern\":{\"fillmode\":\"overlay\",\"size\":10,\"solidity\":0.2}},\"type\":\"histogram\"}],\"scattergl\":[{\"type\":\"scattergl\",\"marker\":{\"colorbar\":{\"outlinewidth\":0,\"ticks\":\"\"}}}],\"scatter3d\":[{\"type\":\"scatter3d\",\"line\":{\"colorbar\":{\"outlinewidth\":0,\"ticks\":\"\"}},\"marker\":{\"colorbar\":{\"outlinewidth\":0,\"ticks\":\"\"}}}],\"scattermapbox\":[{\"type\":\"scattermapbox\",\"marker\":{\"colorbar\":{\"outlinewidth\":0,\"ticks\":\"\"}}}],\"scatterternary\":[{\"type\":\"scatterternary\",\"marker\":{\"colorbar\":{\"outlinewidth\":0,\"ticks\":\"\"}}}],\"scattercarpet\":[{\"type\":\"scattercarpet\",\"marker\":{\"colorbar\":{\"outlinewidth\":0,\"ticks\":\"\"}}}],\"carpet\":[{\"aaxis\":{\"endlinecolor\":\"#2a3f5f\",\"gridcolor\":\"white\",\"linecolor\":\"white\",\"minorgridcolor\":\"white\",\"startlinecolor\":\"#2a3f5f\"},\"baxis\":{\"endlinecolor\":\"#2a3f5f\",\"gridcolor\":\"white\",\"linecolor\":\"white\",\"minorgridcolor\":\"white\",\"startlinecolor\":\"#2a3f5f\"},\"type\":\"carpet\"}],\"table\":[{\"cells\":{\"fill\":{\"color\":\"#EBF0F8\"},\"line\":{\"color\":\"white\"}},\"header\":{\"fill\":{\"color\":\"#C8D4E3\"},\"line\":{\"color\":\"white\"}},\"type\":\"table\"}],\"barpolar\":[{\"marker\":{\"line\":{\"color\":\"#E5ECF6\",\"width\":0.5},\"pattern\":{\"fillmode\":\"overlay\",\"size\":10,\"solidity\":0.2}},\"type\":\"barpolar\"}],\"pie\":[{\"automargin\":true,\"type\":\"pie\"}]},\"layout\":{\"autotypenumbers\":\"strict\",\"colorway\":[\"#636efa\",\"#EF553B\",\"#00cc96\",\"#ab63fa\",\"#FFA15A\",\"#19d3f3\",\"#FF6692\",\"#B6E880\",\"#FF97FF\",\"#FECB52\"],\"font\":{\"color\":\"#2a3f5f\"},\"hovermode\":\"closest\",\"hoverlabel\":{\"align\":\"left\"},\"paper_bgcolor\":\"white\",\"plot_bgcolor\":\"#E5ECF6\",\"polar\":{\"bgcolor\":\"#E5ECF6\",\"angularaxis\":{\"gridcolor\":\"white\",\"linecolor\":\"white\",\"ticks\":\"\"},\"radialaxis\":{\"gridcolor\":\"white\",\"linecolor\":\"white\",\"ticks\":\"\"}},\"ternary\":{\"bgcolor\":\"#E5ECF6\",\"aaxis\":{\"gridcolor\":\"white\",\"linecolor\":\"white\",\"ticks\":\"\"},\"baxis\":{\"gridcolor\":\"white\",\"linecolor\":\"white\",\"ticks\":\"\"},\"caxis\":{\"gridcolor\":\"white\",\"linecolor\":\"white\",\"ticks\":\"\"}},\"coloraxis\":{\"colorbar\":{\"outlinewidth\":0,\"ticks\":\"\"}},\"colorscale\":{\"sequential\":[[0.0,\"#0d0887\"],[0.1111111111111111,\"#46039f\"],[0.2222222222222222,\"#7201a8\"],[0.3333333333333333,\"#9c179e\"],[0.4444444444444444,\"#bd3786\"],[0.5555555555555556,\"#d8576b\"],[0.6666666666666666,\"#ed7953\"],[0.7777777777777778,\"#fb9f3a\"],[0.8888888888888888,\"#fdca26\"],[1.0,\"#f0f921\"]],\"sequentialminus\":[[0.0,\"#0d0887\"],[0.1111111111111111,\"#46039f\"],[0.2222222222222222,\"#7201a8\"],[0.3333333333333333,\"#9c179e\"],[0.4444444444444444,\"#bd3786\"],[0.5555555555555556,\"#d8576b\"],[0.6666666666666666,\"#ed7953\"],[0.7777777777777778,\"#fb9f3a\"],[0.8888888888888888,\"#fdca26\"],[1.0,\"#f0f921\"]],\"diverging\":[[0,\"#8e0152\"],[0.1,\"#c51b7d\"],[0.2,\"#de77ae\"],[0.3,\"#f1b6da\"],[0.4,\"#fde0ef\"],[0.5,\"#f7f7f7\"],[0.6,\"#e6f5d0\"],[0.7,\"#b8e186\"],[0.8,\"#7fbc41\"],[0.9,\"#4d9221\"],[1,\"#276419\"]]},\"xaxis\":{\"gridcolor\":\"white\",\"linecolor\":\"white\",\"ticks\":\"\",\"title\":{\"standoff\":15},\"zerolinecolor\":\"white\",\"automargin\":true,\"zerolinewidth\":2},\"yaxis\":{\"gridcolor\":\"white\",\"linecolor\":\"white\",\"ticks\":\"\",\"title\":{\"standoff\":15},\"zerolinecolor\":\"white\",\"automargin\":true,\"zerolinewidth\":2},\"scene\":{\"xaxis\":{\"backgroundcolor\":\"#E5ECF6\",\"gridcolor\":\"white\",\"linecolor\":\"white\",\"showbackground\":true,\"ticks\":\"\",\"zerolinecolor\":\"white\",\"gridwidth\":2},\"yaxis\":{\"backgroundcolor\":\"#E5ECF6\",\"gridcolor\":\"white\",\"linecolor\":\"white\",\"showbackground\":true,\"ticks\":\"\",\"zerolinecolor\":\"white\",\"gridwidth\":2},\"zaxis\":{\"backgroundcolor\":\"#E5ECF6\",\"gridcolor\":\"white\",\"linecolor\":\"white\",\"showbackground\":true,\"ticks\":\"\",\"zerolinecolor\":\"white\",\"gridwidth\":2}},\"shapedefaults\":{\"line\":{\"color\":\"#2a3f5f\"}},\"annotationdefaults\":{\"arrowcolor\":\"#2a3f5f\",\"arrowhead\":0,\"arrowwidth\":1},\"geo\":{\"bgcolor\":\"white\",\"landcolor\":\"#E5ECF6\",\"subunitcolor\":\"white\",\"showland\":true,\"showlakes\":true,\"lakecolor\":\"white\"},\"title\":{\"x\":0.05},\"mapbox\":{\"style\":\"light\"}}}},                        {\"responsive\": true}                    ).then(function(){\n",
              "                            \n",
              "var gd = document.getElementById('8ac02e72-b089-4ccc-9fe6-af779c1e5b07');\n",
              "var x = new MutationObserver(function (mutations, observer) {{\n",
              "        var display = window.getComputedStyle(gd).display;\n",
              "        if (!display || display === 'none') {{\n",
              "            console.log([gd, 'removed!']);\n",
              "            Plotly.purge(gd);\n",
              "            observer.disconnect();\n",
              "        }}\n",
              "}});\n",
              "\n",
              "// Listen for the removal of the full notebook cells\n",
              "var notebookContainer = gd.closest('#notebook-container');\n",
              "if (notebookContainer) {{\n",
              "    x.observe(notebookContainer, {childList: true});\n",
              "}}\n",
              "\n",
              "// Listen for the clearing of the current output cell\n",
              "var outputEl = gd.closest('.output');\n",
              "if (outputEl) {{\n",
              "    x.observe(outputEl, {childList: true});\n",
              "}}\n",
              "\n",
              "                        })                };                            </script>        </div>\n",
              "</body>\n",
              "</html>"
            ]
          },
          "metadata": {}
        }
      ]
    },
    {
      "cell_type": "code",
      "execution_count": null,
      "metadata": {
        "deletable": false,
        "editable": false,
        "nbgrader": {
          "cell_type": "code",
          "checksum": "e33360d105050f4ba50b2bd57ca664f2",
          "grade": true,
          "grade_id": "cell-b0e84fa191477534",
          "locked": true,
          "points": 1,
          "schema_version": 3,
          "solution": false,
          "task": false
        },
        "id": "a_lCAkailbw_"
      },
      "outputs": [],
      "source": [
        "#DO NOT MODIFY - HIDDEN TESTS HERE"
      ]
    },
    {
      "cell_type": "markdown",
      "metadata": {
        "id": "ad-SYirNMWMt"
      },
      "source": [
        "2. Obtain the parameter estimate $\\hat{\\beta}$. (Hint: use `numpy.linalg.inv`)"
      ]
    },
    {
      "cell_type": "code",
      "execution_count": 94,
      "metadata": {
        "colab": {
          "base_uri": "https://localhost:8080/"
        },
        "deletable": false,
        "id": "SDlulJXmMeOX",
        "nbgrader": {
          "cell_type": "code",
          "checksum": "7384abe453d1a99d288b167a12ad0b16",
          "grade": false,
          "grade_id": "cell-3ee795448289d25c",
          "locked": false,
          "schema_version": 3,
          "solution": true,
          "task": false
        },
        "outputId": "454cdaec-782c-46c5-e103-75965a738b61"
      },
      "outputs": [
        {
          "output_type": "stream",
          "name": "stdout",
          "text": [
            "[[4.72380549]\n",
            " [0.58844238]]\n"
          ]
        }
      ],
      "source": [
        "\n",
        "answer1 = x.T\n",
        "answer2 = np.linalg.inv(x.T @ x)\n",
        "beta = answer2 @ answer1 @ y\n",
        "\n",
        "print(beta)"
      ]
    },
    {
      "cell_type": "code",
      "source": [],
      "metadata": {
        "id": "EOi32fxlBPHD"
      },
      "execution_count": null,
      "outputs": []
    },
    {
      "cell_type": "code",
      "execution_count": null,
      "metadata": {
        "deletable": false,
        "editable": false,
        "nbgrader": {
          "cell_type": "code",
          "checksum": "780039945391ecab7996e168b9fd9e46",
          "grade": true,
          "grade_id": "cell-b2efb8f76e68a1be",
          "locked": true,
          "points": 1,
          "schema_version": 3,
          "solution": false,
          "task": false
        },
        "id": "MF7GnBOOlbw_"
      },
      "outputs": [],
      "source": [
        "# DO NOT MODIFY - HIDDEN TESTS HERE"
      ]
    },
    {
      "cell_type": "markdown",
      "metadata": {
        "id": "UCEPDnrMMYmJ"
      },
      "source": [
        "3. Overlay the regression line against the scatterplot in (1)."
      ]
    },
    {
      "cell_type": "code",
      "source": [
        "y_hat = x @ beta\n",
        "print(y_hat.shape)\n",
        "# print(y_hat)"
      ],
      "metadata": {
        "colab": {
          "base_uri": "https://localhost:8080/"
        },
        "id": "ZiQAvuWpBQCq",
        "outputId": "ab01f47f-23b5-4de3-90ef-fb2fbfc3767a"
      },
      "execution_count": 98,
      "outputs": [
        {
          "output_type": "stream",
          "name": "stdout",
          "text": [
            "(97, 1)\n"
          ]
        }
      ]
    },
    {
      "cell_type": "code",
      "execution_count": 102,
      "metadata": {
        "deletable": false,
        "id": "ctyLQQsnMbTt",
        "nbgrader": {
          "cell_type": "code",
          "checksum": "af5bcad6bd1a84dfd5fa4019eb7ea0e1",
          "grade": true,
          "grade_id": "cell-e7ff4b7491072dd5",
          "locked": false,
          "points": 1,
          "schema_version": 3,
          "solution": true,
          "task": false
        },
        "colab": {
          "base_uri": "https://localhost:8080/",
          "height": 542
        },
        "outputId": "863e5c79-17dd-4484-b839-a6b098f15c07"
      },
      "outputs": [
        {
          "output_type": "display_data",
          "data": {
            "text/html": [
              "<html>\n",
              "<head><meta charset=\"utf-8\" /></head>\n",
              "<body>\n",
              "    <div>            <script src=\"https://cdnjs.cloudflare.com/ajax/libs/mathjax/2.7.5/MathJax.js?config=TeX-AMS-MML_SVG\"></script><script type=\"text/javascript\">if (window.MathJax && window.MathJax.Hub && window.MathJax.Hub.Config) {window.MathJax.Hub.Config({SVG: {font: \"STIX-Web\"}});}</script>                <script type=\"text/javascript\">window.PlotlyConfig = {MathJaxConfig: 'local'};</script>\n",
              "        <script charset=\"utf-8\" src=\"https://cdn.plot.ly/plotly-2.24.1.min.js\"></script>                <div id=\"c1ce5404-826f-45b3-8a0a-20c3aacb2bed\" class=\"plotly-graph-div\" style=\"height:525px; width:100%;\"></div>            <script type=\"text/javascript\">                                    window.PLOTLYENV=window.PLOTLYENV || {};                                    if (document.getElementById(\"c1ce5404-826f-45b3-8a0a-20c3aacb2bed\")) {                    Plotly.newPlot(                        \"c1ce5404-826f-45b3-8a0a-20c3aacb2bed\",                        [{\"marker\":{\"color\":\"blue\",\"opacity\":0.8,\"size\":10,\"symbol\":\"circle\"},\"mode\":\"markers\",\"x\":[17.592,9.1302,13.662,11.854,6.8233,11.886,4.3483,12.0,6.5987,3.8166,3.2522,15.505,3.1551,7.2258,0.71618,3.5129,5.3048,0.56077,3.6518,5.3893,3.1386,21.767,4.263,5.1875,3.0825,22.638,13.501,7.0467,14.692,24.147,-1.22,5.9966,12.134,1.8495,6.5426,4.5623,4.1164,3.3928,10.117,5.4974,0.55657,3.9115,5.3854,2.4406,6.7318,1.0463,5.1337,1.844,8.0043,1.0179,6.7504,1.8396,4.2885,4.9981,1.4233,-1.4211,2.4756,4.6042,3.9624,5.4141,5.1694,-0.74279,17.929,12.054,17.054,4.8852,5.7442,7.7754,1.0173,20.992,6.6799,4.0259,1.2784,3.3411,-2.6807,0.29678,3.8845,5.7014,6.7526,2.0576,0.47953,0.20421,0.67861,7.5435,5.3436,4.2415,6.7981,0.92695,0.152,2.8214,1.8451,4.2959,7.2029,1.9869,0.14454,9.0551,0.61705],\"y\":[6.1101,5.5277,8.5186,7.0032,5.8598,8.3829,7.4764,8.5781,6.4862,5.0546,5.7107,14.164,5.734,8.4084,5.6407,5.3794,6.3654,5.1301,6.4296,7.0708,6.1891,20.27,5.4901,6.3261,5.5649,18.945,12.828,10.957,13.176,22.203,5.2524,6.5894,9.2482,5.8918,8.2111,7.9334,8.0959,5.6063,12.836,6.3534,5.4069,6.8825,11.708,5.7737,7.8247,7.0931,5.0702,5.8014,11.7,5.5416,7.5402,5.3077,7.4239,7.6031,6.3328,6.3589,6.2742,5.6397,9.3102,9.4536,8.8254,5.1793,21.279,14.908,18.959,7.2182,8.2951,10.236,5.4994,20.341,10.136,7.3345,6.0062,7.2259,5.0269,6.5479,7.5386,5.0365,10.274,5.1077,5.7292,5.1884,6.3557,9.7687,6.5159,8.5172,9.1802,6.002,5.5204,5.0594,5.7077,7.6366,5.8707,5.3054,8.2934,13.394,5.4369],\"type\":\"scatter\"},{\"line\":{\"color\":\"red\",\"width\":5},\"mode\":\"lines\",\"name\":\"Line\",\"x\":[17.592,9.1302,13.662,11.854,6.8233,11.886,4.3483,12.0,6.5987,3.8166,3.2522,15.505,3.1551,7.2258,0.71618,3.5129,5.3048,0.56077,3.6518,5.3893,3.1386,21.767,4.263,5.1875,3.0825,22.638,13.501,7.0467,14.692,24.147,-1.22,5.9966,12.134,1.8495,6.5426,4.5623,4.1164,3.3928,10.117,5.4974,0.55657,3.9115,5.3854,2.4406,6.7318,1.0463,5.1337,1.844,8.0043,1.0179,6.7504,1.8396,4.2885,4.9981,1.4233,-1.4211,2.4756,4.6042,3.9624,5.4141,5.1694,-0.74279,17.929,12.054,17.054,4.8852,5.7442,7.7754,1.0173,20.992,6.6799,4.0259,1.2784,3.3411,-2.6807,0.29678,3.8845,5.7014,6.7526,2.0576,0.47953,0.20421,0.67861,7.5435,5.3436,4.2415,6.7981,0.92695,0.152,2.8214,1.8451,4.2959,7.2029,1.9869,0.14454,9.0551,0.61705],\"y\":[15.075683790337465,10.096402082112146,12.763105247553955,11.69920142939808,8.738924361921999,11.718031585471635,7.282529478107956,11.785114016483677,8.606760203980732,6.96965466609829,6.637537788350958,13.847604548915282,6.580400033515263,8.975772418784686,5.145236150674155,6.790944716112703,7.84537461199407,5.053786320818178,6.872679362319479,7.895097992875803,6.570690734289836,17.532430715559133,7.232335343324385,7.776350321136944,6.5376791169233845,18.044964026186218,12.66836602480888,8.870382389010507,13.369200896171517,18.932923573529806,4.005905788596145,8.252459048609243,11.863965295041691,5.812129665714207,8.57374858661428,7.408456146849857,7.146069690812411,6.720272786599141,10.677077020030408,7.958708613861781,5.051314862833524,7.025497847703926,7.892803067604337,6.159957954935411,8.685081884399176,5.339492748267969,7.744692121238279,5.808893232639065,9.43387480951165,5.322780984752689,8.696026912616931,5.806304086178951,7.247340623945499,7.664899334876589,5.561335524509542,3.887570026521396,6.180553438140862,7.433111882458668,7.055449564708425,7.909691363832808,7.7656995141078395,4.286716375466812,15.273988871487093,11.816889904857803,14.759101791350815,7.598464190479577,8.103936192579077,9.299180349348,5.3224279193263095,17.07638787315272,8.65454172501738,7.092815655666886,5.476070224038975,6.689850315692803,3.1463680080760756,4.89844341763512,7.009609903516864,8.078750858830695,8.697321485846988,5.934584524430046,5.00598126208644,4.843971306768588,5.123128370559046,9.162720562052453,7.868206176233256,7.219683832212466,8.724095614014074,5.269262150537381,4.813248730249828,6.384036812210719,5.809540519254093,7.251695097537509,8.962297088344549,5.892981648355035,4.808858950115181,10.052210059577021,5.086903857812544],\"type\":\"scatter\"}],                        {\"title\":{\"text\":\"Scatter Plot Example\"},\"xaxis\":{\"title\":{\"text\":\"Number of People\"}},\"yaxis\":{\"title\":{\"text\":\"Weekly Energy Usage (kWH)\"}},\"template\":{\"data\":{\"histogram2dcontour\":[{\"type\":\"histogram2dcontour\",\"colorbar\":{\"outlinewidth\":0,\"ticks\":\"\"},\"colorscale\":[[0.0,\"#0d0887\"],[0.1111111111111111,\"#46039f\"],[0.2222222222222222,\"#7201a8\"],[0.3333333333333333,\"#9c179e\"],[0.4444444444444444,\"#bd3786\"],[0.5555555555555556,\"#d8576b\"],[0.6666666666666666,\"#ed7953\"],[0.7777777777777778,\"#fb9f3a\"],[0.8888888888888888,\"#fdca26\"],[1.0,\"#f0f921\"]]}],\"choropleth\":[{\"type\":\"choropleth\",\"colorbar\":{\"outlinewidth\":0,\"ticks\":\"\"}}],\"histogram2d\":[{\"type\":\"histogram2d\",\"colorbar\":{\"outlinewidth\":0,\"ticks\":\"\"},\"colorscale\":[[0.0,\"#0d0887\"],[0.1111111111111111,\"#46039f\"],[0.2222222222222222,\"#7201a8\"],[0.3333333333333333,\"#9c179e\"],[0.4444444444444444,\"#bd3786\"],[0.5555555555555556,\"#d8576b\"],[0.6666666666666666,\"#ed7953\"],[0.7777777777777778,\"#fb9f3a\"],[0.8888888888888888,\"#fdca26\"],[1.0,\"#f0f921\"]]}],\"heatmap\":[{\"type\":\"heatmap\",\"colorbar\":{\"outlinewidth\":0,\"ticks\":\"\"},\"colorscale\":[[0.0,\"#0d0887\"],[0.1111111111111111,\"#46039f\"],[0.2222222222222222,\"#7201a8\"],[0.3333333333333333,\"#9c179e\"],[0.4444444444444444,\"#bd3786\"],[0.5555555555555556,\"#d8576b\"],[0.6666666666666666,\"#ed7953\"],[0.7777777777777778,\"#fb9f3a\"],[0.8888888888888888,\"#fdca26\"],[1.0,\"#f0f921\"]]}],\"heatmapgl\":[{\"type\":\"heatmapgl\",\"colorbar\":{\"outlinewidth\":0,\"ticks\":\"\"},\"colorscale\":[[0.0,\"#0d0887\"],[0.1111111111111111,\"#46039f\"],[0.2222222222222222,\"#7201a8\"],[0.3333333333333333,\"#9c179e\"],[0.4444444444444444,\"#bd3786\"],[0.5555555555555556,\"#d8576b\"],[0.6666666666666666,\"#ed7953\"],[0.7777777777777778,\"#fb9f3a\"],[0.8888888888888888,\"#fdca26\"],[1.0,\"#f0f921\"]]}],\"contourcarpet\":[{\"type\":\"contourcarpet\",\"colorbar\":{\"outlinewidth\":0,\"ticks\":\"\"}}],\"contour\":[{\"type\":\"contour\",\"colorbar\":{\"outlinewidth\":0,\"ticks\":\"\"},\"colorscale\":[[0.0,\"#0d0887\"],[0.1111111111111111,\"#46039f\"],[0.2222222222222222,\"#7201a8\"],[0.3333333333333333,\"#9c179e\"],[0.4444444444444444,\"#bd3786\"],[0.5555555555555556,\"#d8576b\"],[0.6666666666666666,\"#ed7953\"],[0.7777777777777778,\"#fb9f3a\"],[0.8888888888888888,\"#fdca26\"],[1.0,\"#f0f921\"]]}],\"surface\":[{\"type\":\"surface\",\"colorbar\":{\"outlinewidth\":0,\"ticks\":\"\"},\"colorscale\":[[0.0,\"#0d0887\"],[0.1111111111111111,\"#46039f\"],[0.2222222222222222,\"#7201a8\"],[0.3333333333333333,\"#9c179e\"],[0.4444444444444444,\"#bd3786\"],[0.5555555555555556,\"#d8576b\"],[0.6666666666666666,\"#ed7953\"],[0.7777777777777778,\"#fb9f3a\"],[0.8888888888888888,\"#fdca26\"],[1.0,\"#f0f921\"]]}],\"mesh3d\":[{\"type\":\"mesh3d\",\"colorbar\":{\"outlinewidth\":0,\"ticks\":\"\"}}],\"scatter\":[{\"fillpattern\":{\"fillmode\":\"overlay\",\"size\":10,\"solidity\":0.2},\"type\":\"scatter\"}],\"parcoords\":[{\"type\":\"parcoords\",\"line\":{\"colorbar\":{\"outlinewidth\":0,\"ticks\":\"\"}}}],\"scatterpolargl\":[{\"type\":\"scatterpolargl\",\"marker\":{\"colorbar\":{\"outlinewidth\":0,\"ticks\":\"\"}}}],\"bar\":[{\"error_x\":{\"color\":\"#2a3f5f\"},\"error_y\":{\"color\":\"#2a3f5f\"},\"marker\":{\"line\":{\"color\":\"#E5ECF6\",\"width\":0.5},\"pattern\":{\"fillmode\":\"overlay\",\"size\":10,\"solidity\":0.2}},\"type\":\"bar\"}],\"scattergeo\":[{\"type\":\"scattergeo\",\"marker\":{\"colorbar\":{\"outlinewidth\":0,\"ticks\":\"\"}}}],\"scatterpolar\":[{\"type\":\"scatterpolar\",\"marker\":{\"colorbar\":{\"outlinewidth\":0,\"ticks\":\"\"}}}],\"histogram\":[{\"marker\":{\"pattern\":{\"fillmode\":\"overlay\",\"size\":10,\"solidity\":0.2}},\"type\":\"histogram\"}],\"scattergl\":[{\"type\":\"scattergl\",\"marker\":{\"colorbar\":{\"outlinewidth\":0,\"ticks\":\"\"}}}],\"scatter3d\":[{\"type\":\"scatter3d\",\"line\":{\"colorbar\":{\"outlinewidth\":0,\"ticks\":\"\"}},\"marker\":{\"colorbar\":{\"outlinewidth\":0,\"ticks\":\"\"}}}],\"scattermapbox\":[{\"type\":\"scattermapbox\",\"marker\":{\"colorbar\":{\"outlinewidth\":0,\"ticks\":\"\"}}}],\"scatterternary\":[{\"type\":\"scatterternary\",\"marker\":{\"colorbar\":{\"outlinewidth\":0,\"ticks\":\"\"}}}],\"scattercarpet\":[{\"type\":\"scattercarpet\",\"marker\":{\"colorbar\":{\"outlinewidth\":0,\"ticks\":\"\"}}}],\"carpet\":[{\"aaxis\":{\"endlinecolor\":\"#2a3f5f\",\"gridcolor\":\"white\",\"linecolor\":\"white\",\"minorgridcolor\":\"white\",\"startlinecolor\":\"#2a3f5f\"},\"baxis\":{\"endlinecolor\":\"#2a3f5f\",\"gridcolor\":\"white\",\"linecolor\":\"white\",\"minorgridcolor\":\"white\",\"startlinecolor\":\"#2a3f5f\"},\"type\":\"carpet\"}],\"table\":[{\"cells\":{\"fill\":{\"color\":\"#EBF0F8\"},\"line\":{\"color\":\"white\"}},\"header\":{\"fill\":{\"color\":\"#C8D4E3\"},\"line\":{\"color\":\"white\"}},\"type\":\"table\"}],\"barpolar\":[{\"marker\":{\"line\":{\"color\":\"#E5ECF6\",\"width\":0.5},\"pattern\":{\"fillmode\":\"overlay\",\"size\":10,\"solidity\":0.2}},\"type\":\"barpolar\"}],\"pie\":[{\"automargin\":true,\"type\":\"pie\"}]},\"layout\":{\"autotypenumbers\":\"strict\",\"colorway\":[\"#636efa\",\"#EF553B\",\"#00cc96\",\"#ab63fa\",\"#FFA15A\",\"#19d3f3\",\"#FF6692\",\"#B6E880\",\"#FF97FF\",\"#FECB52\"],\"font\":{\"color\":\"#2a3f5f\"},\"hovermode\":\"closest\",\"hoverlabel\":{\"align\":\"left\"},\"paper_bgcolor\":\"white\",\"plot_bgcolor\":\"#E5ECF6\",\"polar\":{\"bgcolor\":\"#E5ECF6\",\"angularaxis\":{\"gridcolor\":\"white\",\"linecolor\":\"white\",\"ticks\":\"\"},\"radialaxis\":{\"gridcolor\":\"white\",\"linecolor\":\"white\",\"ticks\":\"\"}},\"ternary\":{\"bgcolor\":\"#E5ECF6\",\"aaxis\":{\"gridcolor\":\"white\",\"linecolor\":\"white\",\"ticks\":\"\"},\"baxis\":{\"gridcolor\":\"white\",\"linecolor\":\"white\",\"ticks\":\"\"},\"caxis\":{\"gridcolor\":\"white\",\"linecolor\":\"white\",\"ticks\":\"\"}},\"coloraxis\":{\"colorbar\":{\"outlinewidth\":0,\"ticks\":\"\"}},\"colorscale\":{\"sequential\":[[0.0,\"#0d0887\"],[0.1111111111111111,\"#46039f\"],[0.2222222222222222,\"#7201a8\"],[0.3333333333333333,\"#9c179e\"],[0.4444444444444444,\"#bd3786\"],[0.5555555555555556,\"#d8576b\"],[0.6666666666666666,\"#ed7953\"],[0.7777777777777778,\"#fb9f3a\"],[0.8888888888888888,\"#fdca26\"],[1.0,\"#f0f921\"]],\"sequentialminus\":[[0.0,\"#0d0887\"],[0.1111111111111111,\"#46039f\"],[0.2222222222222222,\"#7201a8\"],[0.3333333333333333,\"#9c179e\"],[0.4444444444444444,\"#bd3786\"],[0.5555555555555556,\"#d8576b\"],[0.6666666666666666,\"#ed7953\"],[0.7777777777777778,\"#fb9f3a\"],[0.8888888888888888,\"#fdca26\"],[1.0,\"#f0f921\"]],\"diverging\":[[0,\"#8e0152\"],[0.1,\"#c51b7d\"],[0.2,\"#de77ae\"],[0.3,\"#f1b6da\"],[0.4,\"#fde0ef\"],[0.5,\"#f7f7f7\"],[0.6,\"#e6f5d0\"],[0.7,\"#b8e186\"],[0.8,\"#7fbc41\"],[0.9,\"#4d9221\"],[1,\"#276419\"]]},\"xaxis\":{\"gridcolor\":\"white\",\"linecolor\":\"white\",\"ticks\":\"\",\"title\":{\"standoff\":15},\"zerolinecolor\":\"white\",\"automargin\":true,\"zerolinewidth\":2},\"yaxis\":{\"gridcolor\":\"white\",\"linecolor\":\"white\",\"ticks\":\"\",\"title\":{\"standoff\":15},\"zerolinecolor\":\"white\",\"automargin\":true,\"zerolinewidth\":2},\"scene\":{\"xaxis\":{\"backgroundcolor\":\"#E5ECF6\",\"gridcolor\":\"white\",\"linecolor\":\"white\",\"showbackground\":true,\"ticks\":\"\",\"zerolinecolor\":\"white\",\"gridwidth\":2},\"yaxis\":{\"backgroundcolor\":\"#E5ECF6\",\"gridcolor\":\"white\",\"linecolor\":\"white\",\"showbackground\":true,\"ticks\":\"\",\"zerolinecolor\":\"white\",\"gridwidth\":2},\"zaxis\":{\"backgroundcolor\":\"#E5ECF6\",\"gridcolor\":\"white\",\"linecolor\":\"white\",\"showbackground\":true,\"ticks\":\"\",\"zerolinecolor\":\"white\",\"gridwidth\":2}},\"shapedefaults\":{\"line\":{\"color\":\"#2a3f5f\"}},\"annotationdefaults\":{\"arrowcolor\":\"#2a3f5f\",\"arrowhead\":0,\"arrowwidth\":1},\"geo\":{\"bgcolor\":\"white\",\"landcolor\":\"#E5ECF6\",\"subunitcolor\":\"white\",\"showland\":true,\"showlakes\":true,\"lakecolor\":\"white\"},\"title\":{\"x\":0.05},\"mapbox\":{\"style\":\"light\"}}}},                        {\"responsive\": true}                    ).then(function(){\n",
              "                            \n",
              "var gd = document.getElementById('c1ce5404-826f-45b3-8a0a-20c3aacb2bed');\n",
              "var x = new MutationObserver(function (mutations, observer) {{\n",
              "        var display = window.getComputedStyle(gd).display;\n",
              "        if (!display || display === 'none') {{\n",
              "            console.log([gd, 'removed!']);\n",
              "            Plotly.purge(gd);\n",
              "            observer.disconnect();\n",
              "        }}\n",
              "}});\n",
              "\n",
              "// Listen for the removal of the full notebook cells\n",
              "var notebookContainer = gd.closest('#notebook-container');\n",
              "if (notebookContainer) {{\n",
              "    x.observe(notebookContainer, {childList: true});\n",
              "}}\n",
              "\n",
              "// Listen for the clearing of the current output cell\n",
              "var outputEl = gd.closest('.output');\n",
              "if (outputEl) {{\n",
              "    x.observe(outputEl, {childList: true});\n",
              "}}\n",
              "\n",
              "                        })                };                            </script>        </div>\n",
              "</body>\n",
              "</html>"
            ]
          },
          "metadata": {}
        }
      ],
      "source": [
        "trace = go.Scatter(\n",
        "    x=x[:, 1].squeeze(),\n",
        "    y=y.squeeze(),\n",
        "    mode='markers',  # Scatter mode for a scatter plot\n",
        "    marker=dict(\n",
        "        color='blue',  # Marker color\n",
        "        size=10,       # Marker size\n",
        "        symbol='circle',  # Marker symbol\n",
        "        opacity=0.8    # Marker opacity\n",
        "    )\n",
        ")\n",
        "\n",
        "line_trace = go.Scatter(\n",
        "    x=x[:, 1].squeeze(),\n",
        "    y=y_hat.squeeze(),\n",
        "    mode='lines',   # Line mode for a line plot\n",
        "    line=dict(\n",
        "        color='red',  # Line color\n",
        "        width=5       # Line width\n",
        "    ),\n",
        "    name='Line'      # Name for the legend\n",
        ")\n",
        "\n",
        "# Define layout\n",
        "layout = go.Layout(\n",
        "    title='Scatter Plot Example',\n",
        "    xaxis=dict(title='Number of People'),\n",
        "    yaxis=dict(title='Weekly Energy Usage (kWH)')\n",
        ")\n",
        "\n",
        "# Create figure\n",
        "fig = go.Figure(data=[trace, line_trace], layout=layout)\n",
        "fig.show()"
      ]
    },
    {
      "cell_type": "markdown",
      "metadata": {
        "id": "Sz_zxPScMccX"
      },
      "source": [
        "4. Write a function `cost_linear` that takes in $\\hat{\\beta}$, $\\mathbf{X}$, and $\\vec{y}$ (in that order), and outputs the residual square sum loss associated with the regression you just performed."
      ]
    },
    {
      "cell_type": "code",
      "execution_count": 104,
      "metadata": {
        "deletable": false,
        "id": "uilMnuIKMgAm",
        "nbgrader": {
          "cell_type": "code",
          "checksum": "34377f41cbaea585a87673b3330f000c",
          "grade": false,
          "grade_id": "cell-1f917936172a92fa",
          "locked": false,
          "schema_version": 3,
          "solution": true,
          "task": false
        },
        "colab": {
          "base_uri": "https://localhost:8080/"
        },
        "outputId": "a23cc02d-a39d-45cd-a12b-139defc5710a"
      },
      "outputs": [
        {
          "output_type": "stream",
          "name": "stdout",
          "text": [
            "428.38800089752255\n"
          ]
        }
      ],
      "source": [
        "def cost_linear(beta, X, y):\n",
        "  y_hat = x @ beta\n",
        "  loss = ((y_hat - y) ** 2).sum()\n",
        "  return loss\n",
        "\n",
        "loss = cost_linear(beta, x, y)\n",
        "print(loss)\n"
      ]
    },
    {
      "cell_type": "code",
      "execution_count": null,
      "metadata": {
        "deletable": false,
        "editable": false,
        "nbgrader": {
          "cell_type": "code",
          "checksum": "925c410c1a379c5361a1b1aa2cf2912f",
          "grade": true,
          "grade_id": "cell-2d694a60138788e0",
          "locked": true,
          "points": 1,
          "schema_version": 3,
          "solution": false,
          "task": false
        },
        "id": "RYoPyBGulbxA"
      },
      "outputs": [],
      "source": [
        "# DO NOT MODIFY - HIDDEN TESTS HERE"
      ]
    },
    {
      "cell_type": "markdown",
      "metadata": {
        "id": "sm7Jd4ekKBcw"
      },
      "source": [
        "### Problem 3\n",
        "\n",
        "In this exercise, you will need the data contained in `data/log.txt` (taken from Andrew Ng's _Machine Learning Specialization_ course).\n",
        "\n",
        "You are given a dataset containing two exam results for each student and whether or not they were admitted to a particular prestigious university, with $1$ representing admission and $0$ otherwise. Your task is to predict whether or not a student will be admitted based on their exams.\n",
        "\n",
        "To do this, we are going to use the **gradient operator** to iterate towards a solution $\\hat{\\beta}$."
      ]
    },
    {
      "cell_type": "markdown",
      "metadata": {
        "id": "_ylbOIwtMpFD"
      },
      "source": [
        "#### Prereq: Load the dataset"
      ]
    },
    {
      "cell_type": "code",
      "execution_count": null,
      "metadata": {
        "id": "dnS26cUyMrDd"
      },
      "outputs": [],
      "source": [
        "matrix = np.matrix([tuple(map(float, x.strip().split(','))) for x in open(\"data/log.txt\", 'r').readlines()])\n",
        "matrix"
      ]
    },
    {
      "cell_type": "markdown",
      "metadata": {
        "id": "ezcFJW8gMr4z"
      },
      "source": [
        "#### Questions"
      ]
    },
    {
      "cell_type": "markdown",
      "metadata": {
        "id": "4LzBv4zhMt8I"
      },
      "source": [
        "1. Construct the design matrix $\\mathbf{X}$ and the vector of admisions $\\vec{y}$. Make a scatterplot of (Exam 2) vs (Exam 1) and show the difference in admission by the use of different markers for each point."
      ]
    },
    {
      "cell_type": "code",
      "execution_count": null,
      "metadata": {
        "deletable": false,
        "id": "icg-k_R6MtXM",
        "nbgrader": {
          "cell_type": "code",
          "checksum": "e3c0a5f20e355a9cc64e9e042d7fb963",
          "grade": false,
          "grade_id": "cell-ee38fa50a427062a",
          "locked": false,
          "schema_version": 3,
          "solution": true,
          "task": false
        }
      },
      "outputs": [],
      "source": [
        "X = None # column 1\n",
        "y = None # column 2\n",
        "# YOUR CODE HERE\n",
        "raise NotImplementedError()"
      ]
    },
    {
      "cell_type": "code",
      "execution_count": null,
      "metadata": {
        "deletable": false,
        "editable": false,
        "nbgrader": {
          "cell_type": "code",
          "checksum": "d3cbb989e7a3aa6719158a64488ac00e",
          "grade": true,
          "grade_id": "cell-7cf7dbc4ea123057",
          "locked": true,
          "points": 1,
          "schema_version": 3,
          "solution": false,
          "task": false
        },
        "id": "-jwPFlltlbxA"
      },
      "outputs": [],
      "source": [
        "# DO NOT MODIFY - HIDDEN TESTS HERE"
      ]
    },
    {
      "cell_type": "markdown",
      "metadata": {
        "id": "RKsFqcVcMw6m"
      },
      "source": [
        "2. Implement the `sigmoid` function mentioned in the lesson above."
      ]
    },
    {
      "cell_type": "code",
      "execution_count": null,
      "metadata": {
        "deletable": false,
        "id": "KP8wQLQiI9xH",
        "nbgrader": {
          "cell_type": "code",
          "checksum": "e5a939c1ded68bb7e1eab57381a64746",
          "grade": false,
          "grade_id": "cell-f024af9272b99c0e",
          "locked": false,
          "schema_version": 3,
          "solution": true,
          "task": false
        }
      },
      "outputs": [],
      "source": [
        "def sigmoid(x):\n",
        "  # YOUR CODE HERE\n",
        "  raise NotImplementedError()"
      ]
    },
    {
      "cell_type": "code",
      "execution_count": null,
      "metadata": {
        "deletable": false,
        "editable": false,
        "nbgrader": {
          "cell_type": "code",
          "checksum": "c162048b29fb02b575a5743a6b4a059c",
          "grade": true,
          "grade_id": "cell-125e088a485b542a",
          "locked": true,
          "points": 1,
          "schema_version": 3,
          "solution": false,
          "task": false
        },
        "id": "1cYeX-M8lbxB"
      },
      "outputs": [],
      "source": [
        "# DO NOT MODIFY - HIDDEN TESTS HERE"
      ]
    },
    {
      "cell_type": "markdown",
      "metadata": {
        "id": "WGv0cJcLM_1H"
      },
      "source": [
        "3. Write a function `cost_log` that takes in $\\hat{\\theta} \\equiv \\hat{\\beta}^T$, $\\mathbf{X}$, and $\\vec{y}$ (in that order) and  and outputs the log-loss."
      ]
    },
    {
      "cell_type": "code",
      "execution_count": null,
      "metadata": {
        "deletable": false,
        "id": "831BlqfYFpOn",
        "nbgrader": {
          "cell_type": "code",
          "checksum": "7fc7af1b955217db1bb6129346d27f5b",
          "grade": false,
          "grade_id": "cell-79c506471bb12f2f",
          "locked": false,
          "schema_version": 3,
          "solution": true,
          "task": false
        }
      },
      "outputs": [],
      "source": [
        "def cost_log(theta, X, y):\n",
        "  # YOUR CODE HERE\n",
        "  raise NotImplementedError()"
      ]
    },
    {
      "cell_type": "code",
      "execution_count": null,
      "metadata": {
        "deletable": false,
        "editable": false,
        "nbgrader": {
          "cell_type": "code",
          "checksum": "63ccea17d99207aac164a269fed899af",
          "grade": true,
          "grade_id": "cell-450c06db02010756",
          "locked": true,
          "points": 1,
          "schema_version": 3,
          "solution": false,
          "task": false
        },
        "id": "ImzmeaFjlbxB"
      },
      "outputs": [],
      "source": [
        "# DO NOT MODIFY - HIDDEN TESTS HERE"
      ]
    },
    {
      "cell_type": "markdown",
      "metadata": {
        "id": "5SQn7RGVNCGc"
      },
      "source": [
        "4. Use the `gradient` function and the succeeding code snippet below to calculate $\\hat{\\beta}$."
      ]
    },
    {
      "cell_type": "markdown",
      "metadata": {
        "id": "iZtl6DH8NLgD"
      },
      "source": [
        "##### `gradient`"
      ]
    },
    {
      "cell_type": "code",
      "execution_count": null,
      "metadata": {
        "deletable": false,
        "id": "jOUkX5PYNNhT",
        "nbgrader": {
          "cell_type": "code",
          "checksum": "c62aaf05b28312c0a74fb94f87d0ea46",
          "grade": false,
          "grade_id": "cell-aefd3998558a8ac7",
          "locked": false,
          "schema_version": 3,
          "solution": true,
          "task": false
        }
      },
      "outputs": [],
      "source": [
        "# YOUR CODE HERE\n",
        "raise NotImplementedError()"
      ]
    },
    {
      "cell_type": "code",
      "execution_count": null,
      "metadata": {
        "deletable": false,
        "editable": false,
        "nbgrader": {
          "cell_type": "code",
          "checksum": "22b664188aa6052937e0733f1ba1a06d",
          "grade": true,
          "grade_id": "cell-a5eb8859856eb9a3",
          "locked": true,
          "points": 1,
          "schema_version": 3,
          "solution": false,
          "task": false
        },
        "id": "rzPjnm23lbxB"
      },
      "outputs": [],
      "source": [
        "# DO NOT MODIFY - HIDDEN TESTS HERE"
      ]
    },
    {
      "cell_type": "code",
      "execution_count": null,
      "metadata": {
        "id": "thvEyBkCAF2L"
      },
      "outputs": [],
      "source": [
        "beta"
      ]
    },
    {
      "cell_type": "markdown",
      "metadata": {
        "id": "hG_zyFNXNEdd"
      },
      "source": [
        "5. Use the `predict` function below on the exam results in $\\mathbf{X}$ to calculate the _accuracy_ of the regression, defined as the number of correct admissions it makes compared to $\\vec{y}$."
      ]
    },
    {
      "cell_type": "markdown",
      "metadata": {
        "id": "z8Vsqr9gNXSi"
      },
      "source": [
        "##### `predict`"
      ]
    },
    {
      "cell_type": "code",
      "execution_count": null,
      "metadata": {
        "id": "jHbYlq2CNZU1"
      },
      "outputs": [],
      "source": [
        "def predict(theta, X):\n",
        "    probability = sigmoid(X * theta.T)\n",
        "    return [1 if x >= 0.5 else 0 for x in probability]"
      ]
    },
    {
      "cell_type": "code",
      "execution_count": null,
      "metadata": {
        "deletable": false,
        "id": "rQaJvJyfNb4j",
        "nbgrader": {
          "cell_type": "code",
          "checksum": "fc1d10b47b655f815cb245d1f5782f87",
          "grade": true,
          "grade_id": "cell-f45e4b5f79efb689",
          "locked": false,
          "points": 1,
          "schema_version": 3,
          "solution": true,
          "task": false
        }
      },
      "outputs": [],
      "source": [
        "accuracy = None\n",
        "# YOUR CODE HERE\n",
        "raise NotImplementedError()"
      ]
    }
  ],
  "metadata": {
    "colab": {
      "provenance": [],
      "include_colab_link": true
    },
    "kernelspec": {
      "display_name": "Python 3 (ipykernel)",
      "language": "python",
      "name": "python3"
    },
    "language_info": {
      "codemirror_mode": {
        "name": "ipython",
        "version": 3
      },
      "file_extension": ".py",
      "mimetype": "text/x-python",
      "name": "python",
      "nbconvert_exporter": "python",
      "pygments_lexer": "ipython3",
      "version": "3.10.12"
    }
  },
  "nbformat": 4,
  "nbformat_minor": 0
}